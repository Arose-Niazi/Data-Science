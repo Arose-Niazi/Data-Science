{
  "nbformat": 4,
  "nbformat_minor": 0,
  "metadata": {
    "kernelspec": {
      "display_name": "Python 3",
      "language": "python",
      "name": "python3"
    },
    "language_info": {
      "codemirror_mode": {
        "name": "ipython",
        "version": 3
      },
      "file_extension": ".py",
      "mimetype": "text/x-python",
      "name": "python",
      "nbconvert_exporter": "python",
      "pygments_lexer": "ipython3",
      "version": "3.8.5"
    },
    "colab": {
      "name": "assign3.ipynb",
      "provenance": []
    }
  },
  "cells": [
    {
      "cell_type": "markdown",
      "metadata": {
        "id": "56FPemySxQdd"
      },
      "source": [
        "# Assignment by\r\n",
        "### FA18-BSE-010 Arose Niazi\r\n",
        "### FA18-BSE-020 Ayesha Mubashar"
      ]
    },
    {
      "cell_type": "markdown",
      "metadata": {
        "id": "Emey0_X2xY88"
      },
      "source": [
        "# Importing Packages"
      ]
    },
    {
      "cell_type": "code",
      "metadata": {
        "id": "TyBpbWsMu5ET"
      },
      "source": [
        "import re\n",
        "import pandas as pd \n",
        "import numpy as np \n",
        "import matplotlib.pyplot as plt \n",
        "import seaborn as sns\n",
        "import string\n",
        "import nltk\n",
        "import pickle\n",
        "import warnings \n",
        "warnings.filterwarnings(\"ignore\", category=DeprecationWarning)\n",
        "\n",
        "%matplotlib inline"
      ],
      "execution_count": 2,
      "outputs": []
    },
    {
      "cell_type": "markdown",
      "metadata": {
        "id": "2VnoaG8oxV9x"
      },
      "source": [
        "# Train Dataset"
      ]
    },
    {
      "cell_type": "code",
      "metadata": {
        "colab": {
          "base_uri": "https://localhost:8080/",
          "height": 0
        },
        "id": "6EV1FKpdu5Et",
        "outputId": "fe4d3bdc-1234-4c29-ec46-42affd39cae1"
      },
      "source": [
        "train = pd.read_csv('train.csv', encoding = \"latin\", names=[\"Comment\", \"Polarity\"])\n",
        "train_original=train.copy()\n",
        "train.shape"
      ],
      "execution_count": 3,
      "outputs": [
        {
          "output_type": "execute_result",
          "data": {
            "text/plain": [
              "(10, 2)"
            ]
          },
          "metadata": {
            "tags": []
          },
          "execution_count": 3
        }
      ]
    },
    {
      "cell_type": "code",
      "metadata": {
        "colab": {
          "base_uri": "https://localhost:8080/",
          "height": 355
        },
        "id": "BTWGqYeAu5Ey",
        "outputId": "9275430c-7d35-4f11-aea7-d55765aafd6b"
      },
      "source": [
        "train_original"
      ],
      "execution_count": 4,
      "outputs": [
        {
          "output_type": "execute_result",
          "data": {
            "text/html": [
              "<div>\n",
              "<style scoped>\n",
              "    .dataframe tbody tr th:only-of-type {\n",
              "        vertical-align: middle;\n",
              "    }\n",
              "\n",
              "    .dataframe tbody tr th {\n",
              "        vertical-align: top;\n",
              "    }\n",
              "\n",
              "    .dataframe thead th {\n",
              "        text-align: right;\n",
              "    }\n",
              "</style>\n",
              "<table border=\"1\" class=\"dataframe\">\n",
              "  <thead>\n",
              "    <tr style=\"text-align: right;\">\n",
              "      <th></th>\n",
              "      <th>Comment</th>\n",
              "      <th>Polarity</th>\n",
              "    </tr>\n",
              "  </thead>\n",
              "  <tbody>\n",
              "    <tr>\n",
              "      <th>0</th>\n",
              "      <td>@user if they want reflection money. #ksleg</td>\n",
              "      <td>Happy</td>\n",
              "    </tr>\n",
              "    <tr>\n",
              "      <th>1</th>\n",
              "      <td>Good job but I will expect a lot more in future.</td>\n",
              "      <td>Happy</td>\n",
              "    </tr>\n",
              "    <tr>\n",
              "      <th>2</th>\n",
              "      <td>time to eat with my best buddy! #lunch</td>\n",
              "      <td>Happy</td>\n",
              "    </tr>\n",
              "    <tr>\n",
              "      <th>3</th>\n",
              "      <td>totally dissatisfied with the service###%%@@ n...</td>\n",
              "      <td>Sad</td>\n",
              "    </tr>\n",
              "    <tr>\n",
              "      <th>4</th>\n",
              "      <td>loved my work!!!!!</td>\n",
              "      <td>Happy</td>\n",
              "    </tr>\n",
              "    <tr>\n",
              "      <th>5</th>\n",
              "      <td>Worst customer care service......@@$$$angry</td>\n",
              "      <td>Sad</td>\n",
              "    </tr>\n",
              "    <tr>\n",
              "      <th>6</th>\n",
              "      <td>Brilliant effort guys!!!</td>\n",
              "      <td>Happy</td>\n",
              "    </tr>\n",
              "    <tr>\n",
              "      <th>7</th>\n",
              "      <td>@user you point one finger user millions are p...</td>\n",
              "      <td>Sad</td>\n",
              "    </tr>\n",
              "    <tr>\n",
              "      <th>8</th>\n",
              "      <td>words r free it's how u use that can cost you!...</td>\n",
              "      <td>Happy</td>\n",
              "    </tr>\n",
              "    <tr>\n",
              "      <th>9</th>\n",
              "      <td>you might be a libtard if... #libtard #sjw #li...</td>\n",
              "      <td>Sad</td>\n",
              "    </tr>\n",
              "  </tbody>\n",
              "</table>\n",
              "</div>"
            ],
            "text/plain": [
              "                                             Comment Polarity\n",
              "0        @user if they want reflection money. #ksleg    Happy\n",
              "1  Good job but I will expect a lot more in future.    Happy\n",
              "2             time to eat with my best buddy! #lunch    Happy\n",
              "3  totally dissatisfied with the service###%%@@ n...      Sad\n",
              "4                                 loved my work!!!!!    Happy\n",
              "5        Worst customer care service......@@$$$angry      Sad\n",
              "6                           Brilliant effort guys!!!    Happy\n",
              "7  @user you point one finger user millions are p...      Sad\n",
              "8  words r free it's how u use that can cost you!...    Happy\n",
              "9  you might be a libtard if... #libtard #sjw #li...      Sad"
            ]
          },
          "metadata": {
            "tags": []
          },
          "execution_count": 4
        }
      ]
    },
    {
      "cell_type": "markdown",
      "metadata": {
        "id": "JpvVhYAsxiWu"
      },
      "source": [
        "### Loading and making copy of test"
      ]
    },
    {
      "cell_type": "code",
      "metadata": {
        "colab": {
          "base_uri": "https://localhost:8080/",
          "height": 0
        },
        "id": "wGpEiIxUu5Ey",
        "outputId": "5a0d2b8f-54a3-4598-d715-035fc6c65665"
      },
      "source": [
        "test = pd.read_csv('test.csv', encoding = \"latin\", names=[\"Comment\", \"Polarity\"])\n",
        "test_original=test.copy()\n",
        "test.shape"
      ],
      "execution_count": 5,
      "outputs": [
        {
          "output_type": "execute_result",
          "data": {
            "text/plain": [
              "(5, 2)"
            ]
          },
          "metadata": {
            "tags": []
          },
          "execution_count": 5
        }
      ]
    },
    {
      "cell_type": "code",
      "metadata": {
        "colab": {
          "base_uri": "https://localhost:8080/",
          "height": 202
        },
        "id": "owH9tuptu5Ez",
        "outputId": "f614d6ca-1997-42b4-fa0f-58bbdc7f12ff"
      },
      "source": [
        "test_original"
      ],
      "execution_count": 6,
      "outputs": [
        {
          "output_type": "execute_result",
          "data": {
            "text/html": [
              "<div>\n",
              "<style scoped>\n",
              "    .dataframe tbody tr th:only-of-type {\n",
              "        vertical-align: middle;\n",
              "    }\n",
              "\n",
              "    .dataframe tbody tr th {\n",
              "        vertical-align: top;\n",
              "    }\n",
              "\n",
              "    .dataframe thead th {\n",
              "        text-align: right;\n",
              "    }\n",
              "</style>\n",
              "<table border=\"1\" class=\"dataframe\">\n",
              "  <thead>\n",
              "    <tr style=\"text-align: right;\">\n",
              "      <th></th>\n",
              "      <th>Comment</th>\n",
              "      <th>Polarity</th>\n",
              "    </tr>\n",
              "  </thead>\n",
              "  <tbody>\n",
              "    <tr>\n",
              "      <th>0</th>\n",
              "      <td>@user the pic says otherwise for young girls c...</td>\n",
              "      <td>Sad</td>\n",
              "    </tr>\n",
              "    <tr>\n",
              "      <th>1</th>\n",
              "      <td>#good night! ?? #faith ever #vaitacacommafiasdv</td>\n",
              "      <td>Happy</td>\n",
              "    </tr>\n",
              "    <tr>\n",
              "      <th>2</th>\n",
              "      <td>@user when you're blocked by a troll because y...</td>\n",
              "      <td>Sad</td>\n",
              "    </tr>\n",
              "    <tr>\n",
              "      <th>3</th>\n",
              "      <td>dinner with sister!!</td>\n",
              "      <td>Happy</td>\n",
              "    </tr>\n",
              "    <tr>\n",
              "      <th>4</th>\n",
              "      <td>who else is planning on watching @user tomorrow?</td>\n",
              "      <td>Happy</td>\n",
              "    </tr>\n",
              "  </tbody>\n",
              "</table>\n",
              "</div>"
            ],
            "text/plain": [
              "                                             Comment Polarity\n",
              "0  @user the pic says otherwise for young girls c...      Sad\n",
              "1    #good night! ?? #faith ever #vaitacacommafiasdv    Happy\n",
              "2  @user when you're blocked by a troll because y...      Sad\n",
              "3                               dinner with sister!!    Happy\n",
              "4   who else is planning on watching @user tomorrow?    Happy"
            ]
          },
          "metadata": {
            "tags": []
          },
          "execution_count": 6
        }
      ]
    },
    {
      "cell_type": "markdown",
      "metadata": {
        "id": "jC_2p_SgxtKu"
      },
      "source": [
        "### Combining"
      ]
    },
    {
      "cell_type": "code",
      "metadata": {
        "colab": {
          "base_uri": "https://localhost:8080/",
          "height": 202
        },
        "id": "5-2w_jmUu5E0",
        "outputId": "3f329e72-73d2-4870-d5ca-f00953b5de6c"
      },
      "source": [
        "combine = train.append(test,ignore_index=True,sort=True)\n",
        "combine.head()"
      ],
      "execution_count": 7,
      "outputs": [
        {
          "output_type": "execute_result",
          "data": {
            "text/html": [
              "<div>\n",
              "<style scoped>\n",
              "    .dataframe tbody tr th:only-of-type {\n",
              "        vertical-align: middle;\n",
              "    }\n",
              "\n",
              "    .dataframe tbody tr th {\n",
              "        vertical-align: top;\n",
              "    }\n",
              "\n",
              "    .dataframe thead th {\n",
              "        text-align: right;\n",
              "    }\n",
              "</style>\n",
              "<table border=\"1\" class=\"dataframe\">\n",
              "  <thead>\n",
              "    <tr style=\"text-align: right;\">\n",
              "      <th></th>\n",
              "      <th>Comment</th>\n",
              "      <th>Polarity</th>\n",
              "    </tr>\n",
              "  </thead>\n",
              "  <tbody>\n",
              "    <tr>\n",
              "      <th>0</th>\n",
              "      <td>@user if they want reflection money. #ksleg</td>\n",
              "      <td>Happy</td>\n",
              "    </tr>\n",
              "    <tr>\n",
              "      <th>1</th>\n",
              "      <td>Good job but I will expect a lot more in future.</td>\n",
              "      <td>Happy</td>\n",
              "    </tr>\n",
              "    <tr>\n",
              "      <th>2</th>\n",
              "      <td>time to eat with my best buddy! #lunch</td>\n",
              "      <td>Happy</td>\n",
              "    </tr>\n",
              "    <tr>\n",
              "      <th>3</th>\n",
              "      <td>totally dissatisfied with the service###%%@@ n...</td>\n",
              "      <td>Sad</td>\n",
              "    </tr>\n",
              "    <tr>\n",
              "      <th>4</th>\n",
              "      <td>loved my work!!!!!</td>\n",
              "      <td>Happy</td>\n",
              "    </tr>\n",
              "  </tbody>\n",
              "</table>\n",
              "</div>"
            ],
            "text/plain": [
              "                                             Comment Polarity\n",
              "0        @user if they want reflection money. #ksleg    Happy\n",
              "1  Good job but I will expect a lot more in future.    Happy\n",
              "2             time to eat with my best buddy! #lunch    Happy\n",
              "3  totally dissatisfied with the service###%%@@ n...      Sad\n",
              "4                                 loved my work!!!!!    Happy"
            ]
          },
          "metadata": {
            "tags": []
          },
          "execution_count": 7
        }
      ]
    },
    {
      "cell_type": "code",
      "metadata": {
        "colab": {
          "base_uri": "https://localhost:8080/",
          "height": 202
        },
        "id": "Kr_u7SaNu5E1",
        "outputId": "07b3b627-2dd0-4a18-e95c-58fe3a592ec8"
      },
      "source": [
        "combine.tail()"
      ],
      "execution_count": 8,
      "outputs": [
        {
          "output_type": "execute_result",
          "data": {
            "text/html": [
              "<div>\n",
              "<style scoped>\n",
              "    .dataframe tbody tr th:only-of-type {\n",
              "        vertical-align: middle;\n",
              "    }\n",
              "\n",
              "    .dataframe tbody tr th {\n",
              "        vertical-align: top;\n",
              "    }\n",
              "\n",
              "    .dataframe thead th {\n",
              "        text-align: right;\n",
              "    }\n",
              "</style>\n",
              "<table border=\"1\" class=\"dataframe\">\n",
              "  <thead>\n",
              "    <tr style=\"text-align: right;\">\n",
              "      <th></th>\n",
              "      <th>Comment</th>\n",
              "      <th>Polarity</th>\n",
              "    </tr>\n",
              "  </thead>\n",
              "  <tbody>\n",
              "    <tr>\n",
              "      <th>10</th>\n",
              "      <td>@user the pic says otherwise for young girls c...</td>\n",
              "      <td>Sad</td>\n",
              "    </tr>\n",
              "    <tr>\n",
              "      <th>11</th>\n",
              "      <td>#good night! ?? #faith ever #vaitacacommafiasdv</td>\n",
              "      <td>Happy</td>\n",
              "    </tr>\n",
              "    <tr>\n",
              "      <th>12</th>\n",
              "      <td>@user when you're blocked by a troll because y...</td>\n",
              "      <td>Sad</td>\n",
              "    </tr>\n",
              "    <tr>\n",
              "      <th>13</th>\n",
              "      <td>dinner with sister!!</td>\n",
              "      <td>Happy</td>\n",
              "    </tr>\n",
              "    <tr>\n",
              "      <th>14</th>\n",
              "      <td>who else is planning on watching @user tomorrow?</td>\n",
              "      <td>Happy</td>\n",
              "    </tr>\n",
              "  </tbody>\n",
              "</table>\n",
              "</div>"
            ],
            "text/plain": [
              "                                              Comment Polarity\n",
              "10  @user the pic says otherwise for young girls c...      Sad\n",
              "11    #good night! ?? #faith ever #vaitacacommafiasdv    Happy\n",
              "12  @user when you're blocked by a troll because y...      Sad\n",
              "13                               dinner with sister!!    Happy\n",
              "14   who else is planning on watching @user tomorrow?    Happy"
            ]
          },
          "metadata": {
            "tags": []
          },
          "execution_count": 8
        }
      ]
    },
    {
      "cell_type": "code",
      "metadata": {
        "id": "pniQydIuu5E2"
      },
      "source": [
        "def remove_pattern(text,pattern):\n",
        "    \n",
        "    # re.findall() finds the pattern i.e @user and puts it in a list for further task\n",
        "    r = re.findall(pattern,text)\n",
        "    \n",
        "    # re.sub() removes @user from the sentences in the dataset\n",
        "    for i in r:\n",
        "        text = re.sub(i,\"\",text)\n",
        "    \n",
        "    return text"
      ],
      "execution_count": 9,
      "outputs": []
    },
    {
      "cell_type": "markdown",
      "metadata": {
        "id": "Pyrta3kZx0BN"
      },
      "source": [
        "# Removing @user"
      ]
    },
    {
      "cell_type": "code",
      "metadata": {
        "colab": {
          "base_uri": "https://localhost:8080/",
          "height": 202
        },
        "id": "lhfmNSV_u5E2",
        "outputId": "015061b9-7cbb-457a-8f8e-70e86533d697"
      },
      "source": [
        "combine['Tidy_Comments'] = np.vectorize(remove_pattern)(combine['Comment'], \"@[\\w]*\")\n",
        "\n",
        "combine.head()"
      ],
      "execution_count": 10,
      "outputs": [
        {
          "output_type": "execute_result",
          "data": {
            "text/html": [
              "<div>\n",
              "<style scoped>\n",
              "    .dataframe tbody tr th:only-of-type {\n",
              "        vertical-align: middle;\n",
              "    }\n",
              "\n",
              "    .dataframe tbody tr th {\n",
              "        vertical-align: top;\n",
              "    }\n",
              "\n",
              "    .dataframe thead th {\n",
              "        text-align: right;\n",
              "    }\n",
              "</style>\n",
              "<table border=\"1\" class=\"dataframe\">\n",
              "  <thead>\n",
              "    <tr style=\"text-align: right;\">\n",
              "      <th></th>\n",
              "      <th>Comment</th>\n",
              "      <th>Polarity</th>\n",
              "      <th>Tidy_Comments</th>\n",
              "    </tr>\n",
              "  </thead>\n",
              "  <tbody>\n",
              "    <tr>\n",
              "      <th>0</th>\n",
              "      <td>@user if they want reflection money. #ksleg</td>\n",
              "      <td>Happy</td>\n",
              "      <td>if they want reflection money. #ksleg</td>\n",
              "    </tr>\n",
              "    <tr>\n",
              "      <th>1</th>\n",
              "      <td>Good job but I will expect a lot more in future.</td>\n",
              "      <td>Happy</td>\n",
              "      <td>Good job but I will expect a lot more in future.</td>\n",
              "    </tr>\n",
              "    <tr>\n",
              "      <th>2</th>\n",
              "      <td>time to eat with my best buddy! #lunch</td>\n",
              "      <td>Happy</td>\n",
              "      <td>time to eat with my best buddy! #lunch</td>\n",
              "    </tr>\n",
              "    <tr>\n",
              "      <th>3</th>\n",
              "      <td>totally dissatisfied with the service###%%@@ n...</td>\n",
              "      <td>Sad</td>\n",
              "      <td>totally dissatisfied with the service###%% nev...</td>\n",
              "    </tr>\n",
              "    <tr>\n",
              "      <th>4</th>\n",
              "      <td>loved my work!!!!!</td>\n",
              "      <td>Happy</td>\n",
              "      <td>loved my work!!!!!</td>\n",
              "    </tr>\n",
              "  </tbody>\n",
              "</table>\n",
              "</div>"
            ],
            "text/plain": [
              "                                             Comment  ...                                      Tidy_Comments\n",
              "0        @user if they want reflection money. #ksleg  ...              if they want reflection money. #ksleg\n",
              "1  Good job but I will expect a lot more in future.  ...  Good job but I will expect a lot more in future.\n",
              "2             time to eat with my best buddy! #lunch  ...             time to eat with my best buddy! #lunch\n",
              "3  totally dissatisfied with the service###%%@@ n...  ...  totally dissatisfied with the service###%% nev...\n",
              "4                                 loved my work!!!!!  ...                                 loved my work!!!!!\n",
              "\n",
              "[5 rows x 3 columns]"
            ]
          },
          "metadata": {
            "tags": []
          },
          "execution_count": 10
        }
      ]
    },
    {
      "cell_type": "markdown",
      "metadata": {
        "id": "t-Rc932vx2Ox"
      },
      "source": [
        "# Removing Punctuations, Numbers, and Special Characters"
      ]
    },
    {
      "cell_type": "code",
      "metadata": {
        "colab": {
          "base_uri": "https://localhost:8080/",
          "height": 355
        },
        "id": "BytGBSGzu5E3",
        "outputId": "45e548ef-ccd4-4cbc-a450-200289c911c6"
      },
      "source": [
        "## Removing Punctuations, Numbers, and Special Characters\n",
        "combine['Tidy_Comments'] = combine['Tidy_Comments'].str.replace(\"[^a-zA-Z#]\", \" \")\n",
        "combine.head(10)"
      ],
      "execution_count": 11,
      "outputs": [
        {
          "output_type": "execute_result",
          "data": {
            "text/html": [
              "<div>\n",
              "<style scoped>\n",
              "    .dataframe tbody tr th:only-of-type {\n",
              "        vertical-align: middle;\n",
              "    }\n",
              "\n",
              "    .dataframe tbody tr th {\n",
              "        vertical-align: top;\n",
              "    }\n",
              "\n",
              "    .dataframe thead th {\n",
              "        text-align: right;\n",
              "    }\n",
              "</style>\n",
              "<table border=\"1\" class=\"dataframe\">\n",
              "  <thead>\n",
              "    <tr style=\"text-align: right;\">\n",
              "      <th></th>\n",
              "      <th>Comment</th>\n",
              "      <th>Polarity</th>\n",
              "      <th>Tidy_Comments</th>\n",
              "    </tr>\n",
              "  </thead>\n",
              "  <tbody>\n",
              "    <tr>\n",
              "      <th>0</th>\n",
              "      <td>@user if they want reflection money. #ksleg</td>\n",
              "      <td>Happy</td>\n",
              "      <td>if they want reflection money  #ksleg</td>\n",
              "    </tr>\n",
              "    <tr>\n",
              "      <th>1</th>\n",
              "      <td>Good job but I will expect a lot more in future.</td>\n",
              "      <td>Happy</td>\n",
              "      <td>Good job but I  will expect a lot more in future</td>\n",
              "    </tr>\n",
              "    <tr>\n",
              "      <th>2</th>\n",
              "      <td>time to eat with my best buddy! #lunch</td>\n",
              "      <td>Happy</td>\n",
              "      <td>time to eat with my best buddy  #lunch</td>\n",
              "    </tr>\n",
              "    <tr>\n",
              "      <th>3</th>\n",
              "      <td>totally dissatisfied with the service###%%@@ n...</td>\n",
              "      <td>Sad</td>\n",
              "      <td>totally dissatisfied with the service###   nev...</td>\n",
              "    </tr>\n",
              "    <tr>\n",
              "      <th>4</th>\n",
              "      <td>loved my work!!!!!</td>\n",
              "      <td>Happy</td>\n",
              "      <td>loved my work</td>\n",
              "    </tr>\n",
              "    <tr>\n",
              "      <th>5</th>\n",
              "      <td>Worst customer care service......@@$$$angry</td>\n",
              "      <td>Sad</td>\n",
              "      <td>Worst customer care service         angry</td>\n",
              "    </tr>\n",
              "    <tr>\n",
              "      <th>6</th>\n",
              "      <td>Brilliant effort guys!!!</td>\n",
              "      <td>Happy</td>\n",
              "      <td>Brilliant effort guys</td>\n",
              "    </tr>\n",
              "    <tr>\n",
              "      <th>7</th>\n",
              "      <td>@user you point one finger user millions are p...</td>\n",
              "      <td>Sad</td>\n",
              "      <td>you point one finger user millions are pointe...</td>\n",
              "    </tr>\n",
              "    <tr>\n",
              "      <th>8</th>\n",
              "      <td>words r free it's how u use that can cost you!...</td>\n",
              "      <td>Happy</td>\n",
              "      <td>words r free it s how u use that can cost you ...</td>\n",
              "    </tr>\n",
              "    <tr>\n",
              "      <th>9</th>\n",
              "      <td>you might be a libtard if... #libtard #sjw #li...</td>\n",
              "      <td>Sad</td>\n",
              "      <td>you might be a libtard if    #libtard #sjw #li...</td>\n",
              "    </tr>\n",
              "  </tbody>\n",
              "</table>\n",
              "</div>"
            ],
            "text/plain": [
              "                                             Comment  ...                                      Tidy_Comments\n",
              "0        @user if they want reflection money. #ksleg  ...              if they want reflection money  #ksleg\n",
              "1  Good job but I will expect a lot more in future.  ...  Good job but I  will expect a lot more in future \n",
              "2             time to eat with my best buddy! #lunch  ...             time to eat with my best buddy  #lunch\n",
              "3  totally dissatisfied with the service###%%@@ n...  ...  totally dissatisfied with the service###   nev...\n",
              "4                                 loved my work!!!!!  ...                                 loved my work     \n",
              "5        Worst customer care service......@@$$$angry  ...          Worst customer care service         angry\n",
              "6                           Brilliant effort guys!!!  ...                           Brilliant effort guys   \n",
              "7  @user you point one finger user millions are p...  ...   you point one finger user millions are pointe...\n",
              "8  words r free it's how u use that can cost you!...  ...  words r free it s how u use that can cost you ...\n",
              "9  you might be a libtard if... #libtard #sjw #li...  ...  you might be a libtard if    #libtard #sjw #li...\n",
              "\n",
              "[10 rows x 3 columns]"
            ]
          },
          "metadata": {
            "tags": []
          },
          "execution_count": 11
        }
      ]
    },
    {
      "cell_type": "markdown",
      "metadata": {
        "id": "swgumaxSx9DZ"
      },
      "source": [
        "## Removing Short Words"
      ]
    },
    {
      "cell_type": "code",
      "metadata": {
        "colab": {
          "base_uri": "https://localhost:8080/",
          "height": 355
        },
        "id": "fcOHxE5ku5E5",
        "outputId": "1c71b87f-bc1f-4e90-8467-bb54c0df87e2"
      },
      "source": [
        "\n",
        "combine['Tidy_Comments'] = combine['Tidy_Comments'].apply(lambda x: ' '.join([w for w in x.split() if len(w)>3]))\n",
        "\n",
        "combine.head(10)"
      ],
      "execution_count": 12,
      "outputs": [
        {
          "output_type": "execute_result",
          "data": {
            "text/html": [
              "<div>\n",
              "<style scoped>\n",
              "    .dataframe tbody tr th:only-of-type {\n",
              "        vertical-align: middle;\n",
              "    }\n",
              "\n",
              "    .dataframe tbody tr th {\n",
              "        vertical-align: top;\n",
              "    }\n",
              "\n",
              "    .dataframe thead th {\n",
              "        text-align: right;\n",
              "    }\n",
              "</style>\n",
              "<table border=\"1\" class=\"dataframe\">\n",
              "  <thead>\n",
              "    <tr style=\"text-align: right;\">\n",
              "      <th></th>\n",
              "      <th>Comment</th>\n",
              "      <th>Polarity</th>\n",
              "      <th>Tidy_Comments</th>\n",
              "    </tr>\n",
              "  </thead>\n",
              "  <tbody>\n",
              "    <tr>\n",
              "      <th>0</th>\n",
              "      <td>@user if they want reflection money. #ksleg</td>\n",
              "      <td>Happy</td>\n",
              "      <td>they want reflection money #ksleg</td>\n",
              "    </tr>\n",
              "    <tr>\n",
              "      <th>1</th>\n",
              "      <td>Good job but I will expect a lot more in future.</td>\n",
              "      <td>Happy</td>\n",
              "      <td>Good will expect more future</td>\n",
              "    </tr>\n",
              "    <tr>\n",
              "      <th>2</th>\n",
              "      <td>time to eat with my best buddy! #lunch</td>\n",
              "      <td>Happy</td>\n",
              "      <td>time with best buddy #lunch</td>\n",
              "    </tr>\n",
              "    <tr>\n",
              "      <th>3</th>\n",
              "      <td>totally dissatisfied with the service###%%@@ n...</td>\n",
              "      <td>Sad</td>\n",
              "      <td>totally dissatisfied with service### never use...</td>\n",
              "    </tr>\n",
              "    <tr>\n",
              "      <th>4</th>\n",
              "      <td>loved my work!!!!!</td>\n",
              "      <td>Happy</td>\n",
              "      <td>loved work</td>\n",
              "    </tr>\n",
              "    <tr>\n",
              "      <th>5</th>\n",
              "      <td>Worst customer care service......@@$$$angry</td>\n",
              "      <td>Sad</td>\n",
              "      <td>Worst customer care service angry</td>\n",
              "    </tr>\n",
              "    <tr>\n",
              "      <th>6</th>\n",
              "      <td>Brilliant effort guys!!!</td>\n",
              "      <td>Happy</td>\n",
              "      <td>Brilliant effort guys</td>\n",
              "    </tr>\n",
              "    <tr>\n",
              "      <th>7</th>\n",
              "      <td>@user you point one finger user millions are p...</td>\n",
              "      <td>Sad</td>\n",
              "      <td>point finger user millions pointed right back ...</td>\n",
              "    </tr>\n",
              "    <tr>\n",
              "      <th>8</th>\n",
              "      <td>words r free it's how u use that can cost you!...</td>\n",
              "      <td>Happy</td>\n",
              "      <td>words free that cost #verbal #abuse #love #adu...</td>\n",
              "    </tr>\n",
              "    <tr>\n",
              "      <th>9</th>\n",
              "      <td>you might be a libtard if... #libtard #sjw #li...</td>\n",
              "      <td>Sad</td>\n",
              "      <td>might libtard #libtard #sjw #liberal #politics</td>\n",
              "    </tr>\n",
              "  </tbody>\n",
              "</table>\n",
              "</div>"
            ],
            "text/plain": [
              "                                             Comment  ...                                      Tidy_Comments\n",
              "0        @user if they want reflection money. #ksleg  ...                  they want reflection money #ksleg\n",
              "1  Good job but I will expect a lot more in future.  ...                       Good will expect more future\n",
              "2             time to eat with my best buddy! #lunch  ...                        time with best buddy #lunch\n",
              "3  totally dissatisfied with the service###%%@@ n...  ...  totally dissatisfied with service### never use...\n",
              "4                                 loved my work!!!!!  ...                                         loved work\n",
              "5        Worst customer care service......@@$$$angry  ...                  Worst customer care service angry\n",
              "6                           Brilliant effort guys!!!  ...                              Brilliant effort guys\n",
              "7  @user you point one finger user millions are p...  ...  point finger user millions pointed right back ...\n",
              "8  words r free it's how u use that can cost you!...  ...  words free that cost #verbal #abuse #love #adu...\n",
              "9  you might be a libtard if... #libtard #sjw #li...  ...     might libtard #libtard #sjw #liberal #politics\n",
              "\n",
              "[10 rows x 3 columns]"
            ]
          },
          "metadata": {
            "tags": []
          },
          "execution_count": 12
        }
      ]
    },
    {
      "cell_type": "markdown",
      "metadata": {
        "id": "-ZTCc6JLx_e7"
      },
      "source": [
        "## Tokenization"
      ]
    },
    {
      "cell_type": "code",
      "metadata": {
        "colab": {
          "base_uri": "https://localhost:8080/",
          "height": 0
        },
        "id": "wHD0i9S7u5E6",
        "outputId": "1c90197e-a462-4bdc-d791-7b8ad94ed7cd"
      },
      "source": [
        "tokenized_text = combine['Tidy_Comments'].apply(lambda x: x.split())\n",
        "tokenized_text.head()"
      ],
      "execution_count": 13,
      "outputs": [
        {
          "output_type": "execute_result",
          "data": {
            "text/plain": [
              "0              [they, want, reflection, money, #ksleg]\n",
              "1                   [Good, will, expect, more, future]\n",
              "2                    [time, with, best, buddy, #lunch]\n",
              "3    [totally, dissatisfied, with, service###, neve...\n",
              "4                                        [loved, work]\n",
              "Name: Tidy_Comments, dtype: object"
            ]
          },
          "metadata": {
            "tags": []
          },
          "execution_count": 13
        }
      ]
    },
    {
      "cell_type": "markdown",
      "metadata": {
        "id": "0EBczF2AyGLz"
      },
      "source": [
        "## Stemming"
      ]
    },
    {
      "cell_type": "code",
      "metadata": {
        "colab": {
          "base_uri": "https://localhost:8080/",
          "height": 0
        },
        "id": "SYdCjw9ou5E7",
        "outputId": "fd58432d-a61a-4e7e-eaac-86effb9d0f2c"
      },
      "source": [
        "from nltk import PorterStemmer\n",
        "\n",
        "ps = PorterStemmer()\n",
        "\n",
        "tokenized_text = tokenized_text.apply(lambda x: [ps.stem(i) for i in x])\n",
        "\n",
        "tokenized_text.head()"
      ],
      "execution_count": 14,
      "outputs": [
        {
          "output_type": "execute_result",
          "data": {
            "text/plain": [
              "0                 [they, want, reflect, money, #ksleg]\n",
              "1                    [good, will, expect, more, futur]\n",
              "2                    [time, with, best, buddi, #lunch]\n",
              "3    [total, dissatisfi, with, service###, never, u...\n",
              "4                                         [love, work]\n",
              "Name: Tidy_Comments, dtype: object"
            ]
          },
          "metadata": {
            "tags": []
          },
          "execution_count": 14
        }
      ]
    },
    {
      "cell_type": "markdown",
      "metadata": {
        "id": "jA_MlaF3yJcP"
      },
      "source": [
        "## Stitching these tokens back together"
      ]
    },
    {
      "cell_type": "code",
      "metadata": {
        "colab": {
          "base_uri": "https://localhost:8080/",
          "height": 202
        },
        "id": "IegnPrZOu5E8",
        "outputId": "68e28513-58b6-4da4-bde6-ce8bbba52ce5"
      },
      "source": [
        "for i in range(len(tokenized_text)):\n",
        "    tokenized_text[i] = ' '.join(tokenized_text[i])\n",
        "\n",
        "combine['Tidy_Comments'] = tokenized_text\n",
        "combine.head()"
      ],
      "execution_count": 15,
      "outputs": [
        {
          "output_type": "execute_result",
          "data": {
            "text/html": [
              "<div>\n",
              "<style scoped>\n",
              "    .dataframe tbody tr th:only-of-type {\n",
              "        vertical-align: middle;\n",
              "    }\n",
              "\n",
              "    .dataframe tbody tr th {\n",
              "        vertical-align: top;\n",
              "    }\n",
              "\n",
              "    .dataframe thead th {\n",
              "        text-align: right;\n",
              "    }\n",
              "</style>\n",
              "<table border=\"1\" class=\"dataframe\">\n",
              "  <thead>\n",
              "    <tr style=\"text-align: right;\">\n",
              "      <th></th>\n",
              "      <th>Comment</th>\n",
              "      <th>Polarity</th>\n",
              "      <th>Tidy_Comments</th>\n",
              "    </tr>\n",
              "  </thead>\n",
              "  <tbody>\n",
              "    <tr>\n",
              "      <th>0</th>\n",
              "      <td>@user if they want reflection money. #ksleg</td>\n",
              "      <td>Happy</td>\n",
              "      <td>they want reflect money #ksleg</td>\n",
              "    </tr>\n",
              "    <tr>\n",
              "      <th>1</th>\n",
              "      <td>Good job but I will expect a lot more in future.</td>\n",
              "      <td>Happy</td>\n",
              "      <td>good will expect more futur</td>\n",
              "    </tr>\n",
              "    <tr>\n",
              "      <th>2</th>\n",
              "      <td>time to eat with my best buddy! #lunch</td>\n",
              "      <td>Happy</td>\n",
              "      <td>time with best buddi #lunch</td>\n",
              "    </tr>\n",
              "    <tr>\n",
              "      <th>3</th>\n",
              "      <td>totally dissatisfied with the service###%%@@ n...</td>\n",
              "      <td>Sad</td>\n",
              "      <td>total dissatisfi with service### never use thi...</td>\n",
              "    </tr>\n",
              "    <tr>\n",
              "      <th>4</th>\n",
              "      <td>loved my work!!!!!</td>\n",
              "      <td>Happy</td>\n",
              "      <td>love work</td>\n",
              "    </tr>\n",
              "  </tbody>\n",
              "</table>\n",
              "</div>"
            ],
            "text/plain": [
              "                                             Comment  ...                                      Tidy_Comments\n",
              "0        @user if they want reflection money. #ksleg  ...                     they want reflect money #ksleg\n",
              "1  Good job but I will expect a lot more in future.  ...                        good will expect more futur\n",
              "2             time to eat with my best buddy! #lunch  ...                        time with best buddi #lunch\n",
              "3  totally dissatisfied with the service###%%@@ n...  ...  total dissatisfi with service### never use thi...\n",
              "4                                 loved my work!!!!!  ...                                          love work\n",
              "\n",
              "[5 rows x 3 columns]"
            ]
          },
          "metadata": {
            "tags": []
          },
          "execution_count": 15
        }
      ]
    },
    {
      "cell_type": "markdown",
      "metadata": {
        "id": "Ogz7mhuCyNBB"
      },
      "source": [
        "# Label Encoding"
      ]
    },
    {
      "cell_type": "code",
      "metadata": {
        "colab": {
          "base_uri": "https://localhost:8080/",
          "height": 355
        },
        "id": "CwzKiovHu5E9",
        "outputId": "5262348a-3d3c-41d8-c2f1-052807398883"
      },
      "source": [
        "from sklearn import preprocessing\n",
        "label_encoder = preprocessing.LabelEncoder()\n",
        "train.apply(label_encoder.fit_transform)"
      ],
      "execution_count": 16,
      "outputs": [
        {
          "output_type": "execute_result",
          "data": {
            "text/html": [
              "<div>\n",
              "<style scoped>\n",
              "    .dataframe tbody tr th:only-of-type {\n",
              "        vertical-align: middle;\n",
              "    }\n",
              "\n",
              "    .dataframe tbody tr th {\n",
              "        vertical-align: top;\n",
              "    }\n",
              "\n",
              "    .dataframe thead th {\n",
              "        text-align: right;\n",
              "    }\n",
              "</style>\n",
              "<table border=\"1\" class=\"dataframe\">\n",
              "  <thead>\n",
              "    <tr style=\"text-align: right;\">\n",
              "      <th></th>\n",
              "      <th>Comment</th>\n",
              "      <th>Polarity</th>\n",
              "    </tr>\n",
              "  </thead>\n",
              "  <tbody>\n",
              "    <tr>\n",
              "      <th>0</th>\n",
              "      <td>0</td>\n",
              "      <td>0</td>\n",
              "    </tr>\n",
              "    <tr>\n",
              "      <th>1</th>\n",
              "      <td>3</td>\n",
              "      <td>0</td>\n",
              "    </tr>\n",
              "    <tr>\n",
              "      <th>2</th>\n",
              "      <td>6</td>\n",
              "      <td>0</td>\n",
              "    </tr>\n",
              "    <tr>\n",
              "      <th>3</th>\n",
              "      <td>7</td>\n",
              "      <td>1</td>\n",
              "    </tr>\n",
              "    <tr>\n",
              "      <th>4</th>\n",
              "      <td>5</td>\n",
              "      <td>0</td>\n",
              "    </tr>\n",
              "    <tr>\n",
              "      <th>5</th>\n",
              "      <td>4</td>\n",
              "      <td>1</td>\n",
              "    </tr>\n",
              "    <tr>\n",
              "      <th>6</th>\n",
              "      <td>2</td>\n",
              "      <td>0</td>\n",
              "    </tr>\n",
              "    <tr>\n",
              "      <th>7</th>\n",
              "      <td>1</td>\n",
              "      <td>1</td>\n",
              "    </tr>\n",
              "    <tr>\n",
              "      <th>8</th>\n",
              "      <td>8</td>\n",
              "      <td>0</td>\n",
              "    </tr>\n",
              "    <tr>\n",
              "      <th>9</th>\n",
              "      <td>9</td>\n",
              "      <td>1</td>\n",
              "    </tr>\n",
              "  </tbody>\n",
              "</table>\n",
              "</div>"
            ],
            "text/plain": [
              "   Comment  Polarity\n",
              "0        0         0\n",
              "1        3         0\n",
              "2        6         0\n",
              "3        7         1\n",
              "4        5         0\n",
              "5        4         1\n",
              "6        2         0\n",
              "7        1         1\n",
              "8        8         0\n",
              "9        9         1"
            ]
          },
          "metadata": {
            "tags": []
          },
          "execution_count": 16
        }
      ]
    },
    {
      "cell_type": "code",
      "metadata": {
        "colab": {
          "base_uri": "https://localhost:8080/",
          "height": 202
        },
        "id": "ZEl5der9u5E-",
        "outputId": "5e6235c3-764e-413b-8e68-ff6711a84aba"
      },
      "source": [
        "label_encoder2 = preprocessing.LabelEncoder()\n",
        "test.apply(label_encoder2.fit_transform)"
      ],
      "execution_count": 17,
      "outputs": [
        {
          "output_type": "execute_result",
          "data": {
            "text/html": [
              "<div>\n",
              "<style scoped>\n",
              "    .dataframe tbody tr th:only-of-type {\n",
              "        vertical-align: middle;\n",
              "    }\n",
              "\n",
              "    .dataframe tbody tr th {\n",
              "        vertical-align: top;\n",
              "    }\n",
              "\n",
              "    .dataframe thead th {\n",
              "        text-align: right;\n",
              "    }\n",
              "</style>\n",
              "<table border=\"1\" class=\"dataframe\">\n",
              "  <thead>\n",
              "    <tr style=\"text-align: right;\">\n",
              "      <th></th>\n",
              "      <th>Comment</th>\n",
              "      <th>Polarity</th>\n",
              "    </tr>\n",
              "  </thead>\n",
              "  <tbody>\n",
              "    <tr>\n",
              "      <th>0</th>\n",
              "      <td>1</td>\n",
              "      <td>1</td>\n",
              "    </tr>\n",
              "    <tr>\n",
              "      <th>1</th>\n",
              "      <td>0</td>\n",
              "      <td>0</td>\n",
              "    </tr>\n",
              "    <tr>\n",
              "      <th>2</th>\n",
              "      <td>2</td>\n",
              "      <td>1</td>\n",
              "    </tr>\n",
              "    <tr>\n",
              "      <th>3</th>\n",
              "      <td>3</td>\n",
              "      <td>0</td>\n",
              "    </tr>\n",
              "    <tr>\n",
              "      <th>4</th>\n",
              "      <td>4</td>\n",
              "      <td>0</td>\n",
              "    </tr>\n",
              "  </tbody>\n",
              "</table>\n",
              "</div>"
            ],
            "text/plain": [
              "   Comment  Polarity\n",
              "0        1         1\n",
              "1        0         0\n",
              "2        2         1\n",
              "3        3         0\n",
              "4        4         0"
            ]
          },
          "metadata": {
            "tags": []
          },
          "execution_count": 17
        }
      ]
    },
    {
      "cell_type": "markdown",
      "metadata": {
        "id": "IPTmEQxdyVVj"
      },
      "source": [
        "# Extracting Features from cleaned Tweets"
      ]
    },
    {
      "cell_type": "markdown",
      "metadata": {
        "id": "IqEVzMSkyWvM"
      },
      "source": [
        "## Bag-of-Words Features"
      ]
    },
    {
      "cell_type": "code",
      "metadata": {
        "colab": {
          "base_uri": "https://localhost:8080/",
          "height": 509
        },
        "id": "fA_6KicHu5E_",
        "outputId": "41a9fe4f-78ba-44e9-b8f0-05a0a267893b"
      },
      "source": [
        "from sklearn.feature_extraction.text import CountVectorizer\n",
        "\n",
        "bow_vectorizer = CountVectorizer(max_df=0.90, min_df=2, max_features=1000, stop_words='english')\n",
        "\n",
        "# bag-of-words feature matrix\n",
        "bow = bow_vectorizer.fit_transform(combine['Tidy_Comments'])\n",
        "\n",
        "df_bow = pd.DataFrame(bow.todense())\n",
        "\n",
        "df_bow"
      ],
      "execution_count": 18,
      "outputs": [
        {
          "output_type": "execute_result",
          "data": {
            "text/html": [
              "<div>\n",
              "<style scoped>\n",
              "    .dataframe tbody tr th:only-of-type {\n",
              "        vertical-align: middle;\n",
              "    }\n",
              "\n",
              "    .dataframe tbody tr th {\n",
              "        vertical-align: top;\n",
              "    }\n",
              "\n",
              "    .dataframe thead th {\n",
              "        text-align: right;\n",
              "    }\n",
              "</style>\n",
              "<table border=\"1\" class=\"dataframe\">\n",
              "  <thead>\n",
              "    <tr style=\"text-align: right;\">\n",
              "      <th></th>\n",
              "      <th>0</th>\n",
              "      <th>1</th>\n",
              "      <th>2</th>\n",
              "      <th>3</th>\n",
              "    </tr>\n",
              "  </thead>\n",
              "  <tbody>\n",
              "    <tr>\n",
              "      <th>0</th>\n",
              "      <td>0</td>\n",
              "      <td>0</td>\n",
              "      <td>0</td>\n",
              "      <td>0</td>\n",
              "    </tr>\n",
              "    <tr>\n",
              "      <th>1</th>\n",
              "      <td>1</td>\n",
              "      <td>0</td>\n",
              "      <td>0</td>\n",
              "      <td>0</td>\n",
              "    </tr>\n",
              "    <tr>\n",
              "      <th>2</th>\n",
              "      <td>0</td>\n",
              "      <td>0</td>\n",
              "      <td>0</td>\n",
              "      <td>0</td>\n",
              "    </tr>\n",
              "    <tr>\n",
              "      <th>3</th>\n",
              "      <td>0</td>\n",
              "      <td>0</td>\n",
              "      <td>1</td>\n",
              "      <td>0</td>\n",
              "    </tr>\n",
              "    <tr>\n",
              "      <th>4</th>\n",
              "      <td>0</td>\n",
              "      <td>1</td>\n",
              "      <td>0</td>\n",
              "      <td>0</td>\n",
              "    </tr>\n",
              "    <tr>\n",
              "      <th>5</th>\n",
              "      <td>0</td>\n",
              "      <td>0</td>\n",
              "      <td>1</td>\n",
              "      <td>0</td>\n",
              "    </tr>\n",
              "    <tr>\n",
              "      <th>6</th>\n",
              "      <td>0</td>\n",
              "      <td>0</td>\n",
              "      <td>0</td>\n",
              "      <td>0</td>\n",
              "    </tr>\n",
              "    <tr>\n",
              "      <th>7</th>\n",
              "      <td>0</td>\n",
              "      <td>0</td>\n",
              "      <td>0</td>\n",
              "      <td>1</td>\n",
              "    </tr>\n",
              "    <tr>\n",
              "      <th>8</th>\n",
              "      <td>0</td>\n",
              "      <td>1</td>\n",
              "      <td>0</td>\n",
              "      <td>1</td>\n",
              "    </tr>\n",
              "    <tr>\n",
              "      <th>9</th>\n",
              "      <td>0</td>\n",
              "      <td>0</td>\n",
              "      <td>0</td>\n",
              "      <td>0</td>\n",
              "    </tr>\n",
              "    <tr>\n",
              "      <th>10</th>\n",
              "      <td>0</td>\n",
              "      <td>0</td>\n",
              "      <td>0</td>\n",
              "      <td>0</td>\n",
              "    </tr>\n",
              "    <tr>\n",
              "      <th>11</th>\n",
              "      <td>1</td>\n",
              "      <td>0</td>\n",
              "      <td>0</td>\n",
              "      <td>0</td>\n",
              "    </tr>\n",
              "    <tr>\n",
              "      <th>12</th>\n",
              "      <td>0</td>\n",
              "      <td>0</td>\n",
              "      <td>0</td>\n",
              "      <td>0</td>\n",
              "    </tr>\n",
              "    <tr>\n",
              "      <th>13</th>\n",
              "      <td>0</td>\n",
              "      <td>0</td>\n",
              "      <td>0</td>\n",
              "      <td>0</td>\n",
              "    </tr>\n",
              "    <tr>\n",
              "      <th>14</th>\n",
              "      <td>0</td>\n",
              "      <td>0</td>\n",
              "      <td>0</td>\n",
              "      <td>0</td>\n",
              "    </tr>\n",
              "  </tbody>\n",
              "</table>\n",
              "</div>"
            ],
            "text/plain": [
              "    0  1  2  3\n",
              "0   0  0  0  0\n",
              "1   1  0  0  0\n",
              "2   0  0  0  0\n",
              "3   0  0  1  0\n",
              "4   0  1  0  0\n",
              "5   0  0  1  0\n",
              "6   0  0  0  0\n",
              "7   0  0  0  1\n",
              "8   0  1  0  1\n",
              "9   0  0  0  0\n",
              "10  0  0  0  0\n",
              "11  1  0  0  0\n",
              "12  0  0  0  0\n",
              "13  0  0  0  0\n",
              "14  0  0  0  0"
            ]
          },
          "metadata": {
            "tags": []
          },
          "execution_count": 18
        }
      ]
    },
    {
      "cell_type": "markdown",
      "metadata": {
        "id": "GjTGeiz0yY-V"
      },
      "source": [
        "## TF-IDF Features"
      ]
    },
    {
      "cell_type": "code",
      "metadata": {
        "colab": {
          "base_uri": "https://localhost:8080/",
          "height": 509
        },
        "id": "VtsPXAaRu5FA",
        "outputId": "fa724833-0471-465d-8d55-302df868af81"
      },
      "source": [
        "from sklearn.feature_extraction.text import TfidfVectorizer\n",
        "\n",
        "tfidf=TfidfVectorizer(max_df=0.90, min_df=2,max_features=1000,stop_words='english')\n",
        "\n",
        "tfidf_matrix=tfidf.fit_transform(combine['Tidy_Comments'])\n",
        "\n",
        "df_tfidf = pd.DataFrame(tfidf_matrix.todense())\n",
        "\n",
        "df_tfidf"
      ],
      "execution_count": 19,
      "outputs": [
        {
          "output_type": "execute_result",
          "data": {
            "text/html": [
              "<div>\n",
              "<style scoped>\n",
              "    .dataframe tbody tr th:only-of-type {\n",
              "        vertical-align: middle;\n",
              "    }\n",
              "\n",
              "    .dataframe tbody tr th {\n",
              "        vertical-align: top;\n",
              "    }\n",
              "\n",
              "    .dataframe thead th {\n",
              "        text-align: right;\n",
              "    }\n",
              "</style>\n",
              "<table border=\"1\" class=\"dataframe\">\n",
              "  <thead>\n",
              "    <tr style=\"text-align: right;\">\n",
              "      <th></th>\n",
              "      <th>0</th>\n",
              "      <th>1</th>\n",
              "      <th>2</th>\n",
              "      <th>3</th>\n",
              "    </tr>\n",
              "  </thead>\n",
              "  <tbody>\n",
              "    <tr>\n",
              "      <th>0</th>\n",
              "      <td>0.0</td>\n",
              "      <td>0.000000</td>\n",
              "      <td>0.0</td>\n",
              "      <td>0.000000</td>\n",
              "    </tr>\n",
              "    <tr>\n",
              "      <th>1</th>\n",
              "      <td>1.0</td>\n",
              "      <td>0.000000</td>\n",
              "      <td>0.0</td>\n",
              "      <td>0.000000</td>\n",
              "    </tr>\n",
              "    <tr>\n",
              "      <th>2</th>\n",
              "      <td>0.0</td>\n",
              "      <td>0.000000</td>\n",
              "      <td>0.0</td>\n",
              "      <td>0.000000</td>\n",
              "    </tr>\n",
              "    <tr>\n",
              "      <th>3</th>\n",
              "      <td>0.0</td>\n",
              "      <td>0.000000</td>\n",
              "      <td>1.0</td>\n",
              "      <td>0.000000</td>\n",
              "    </tr>\n",
              "    <tr>\n",
              "      <th>4</th>\n",
              "      <td>0.0</td>\n",
              "      <td>1.000000</td>\n",
              "      <td>0.0</td>\n",
              "      <td>0.000000</td>\n",
              "    </tr>\n",
              "    <tr>\n",
              "      <th>5</th>\n",
              "      <td>0.0</td>\n",
              "      <td>0.000000</td>\n",
              "      <td>1.0</td>\n",
              "      <td>0.000000</td>\n",
              "    </tr>\n",
              "    <tr>\n",
              "      <th>6</th>\n",
              "      <td>0.0</td>\n",
              "      <td>0.000000</td>\n",
              "      <td>0.0</td>\n",
              "      <td>0.000000</td>\n",
              "    </tr>\n",
              "    <tr>\n",
              "      <th>7</th>\n",
              "      <td>0.0</td>\n",
              "      <td>0.000000</td>\n",
              "      <td>0.0</td>\n",
              "      <td>1.000000</td>\n",
              "    </tr>\n",
              "    <tr>\n",
              "      <th>8</th>\n",
              "      <td>0.0</td>\n",
              "      <td>0.707107</td>\n",
              "      <td>0.0</td>\n",
              "      <td>0.707107</td>\n",
              "    </tr>\n",
              "    <tr>\n",
              "      <th>9</th>\n",
              "      <td>0.0</td>\n",
              "      <td>0.000000</td>\n",
              "      <td>0.0</td>\n",
              "      <td>0.000000</td>\n",
              "    </tr>\n",
              "    <tr>\n",
              "      <th>10</th>\n",
              "      <td>0.0</td>\n",
              "      <td>0.000000</td>\n",
              "      <td>0.0</td>\n",
              "      <td>0.000000</td>\n",
              "    </tr>\n",
              "    <tr>\n",
              "      <th>11</th>\n",
              "      <td>1.0</td>\n",
              "      <td>0.000000</td>\n",
              "      <td>0.0</td>\n",
              "      <td>0.000000</td>\n",
              "    </tr>\n",
              "    <tr>\n",
              "      <th>12</th>\n",
              "      <td>0.0</td>\n",
              "      <td>0.000000</td>\n",
              "      <td>0.0</td>\n",
              "      <td>0.000000</td>\n",
              "    </tr>\n",
              "    <tr>\n",
              "      <th>13</th>\n",
              "      <td>0.0</td>\n",
              "      <td>0.000000</td>\n",
              "      <td>0.0</td>\n",
              "      <td>0.000000</td>\n",
              "    </tr>\n",
              "    <tr>\n",
              "      <th>14</th>\n",
              "      <td>0.0</td>\n",
              "      <td>0.000000</td>\n",
              "      <td>0.0</td>\n",
              "      <td>0.000000</td>\n",
              "    </tr>\n",
              "  </tbody>\n",
              "</table>\n",
              "</div>"
            ],
            "text/plain": [
              "      0         1    2         3\n",
              "0   0.0  0.000000  0.0  0.000000\n",
              "1   1.0  0.000000  0.0  0.000000\n",
              "2   0.0  0.000000  0.0  0.000000\n",
              "3   0.0  0.000000  1.0  0.000000\n",
              "4   0.0  1.000000  0.0  0.000000\n",
              "5   0.0  0.000000  1.0  0.000000\n",
              "6   0.0  0.000000  0.0  0.000000\n",
              "7   0.0  0.000000  0.0  1.000000\n",
              "8   0.0  0.707107  0.0  0.707107\n",
              "9   0.0  0.000000  0.0  0.000000\n",
              "10  0.0  0.000000  0.0  0.000000\n",
              "11  1.0  0.000000  0.0  0.000000\n",
              "12  0.0  0.000000  0.0  0.000000\n",
              "13  0.0  0.000000  0.0  0.000000\n",
              "14  0.0  0.000000  0.0  0.000000"
            ]
          },
          "metadata": {
            "tags": []
          },
          "execution_count": 19
        }
      ]
    },
    {
      "cell_type": "markdown",
      "metadata": {
        "id": "NgEGa84Ryfn0"
      },
      "source": [
        "# MACHINE LEARNING"
      ]
    },
    {
      "cell_type": "markdown",
      "metadata": {
        "id": "rLrLB8CVykS4"
      },
      "source": [
        "## First using the features from Bag-of-Words"
      ]
    },
    {
      "cell_type": "code",
      "metadata": {
        "colab": {
          "base_uri": "https://localhost:8080/",
          "height": 0
        },
        "id": "UVCeVmDAu5FB",
        "outputId": "5995cd28-827f-408e-bc81-bb833e6459d1"
      },
      "source": [
        "train_bow = bow[:10]\n",
        "\n",
        "train_bow.todense()"
      ],
      "execution_count": 20,
      "outputs": [
        {
          "output_type": "execute_result",
          "data": {
            "text/plain": [
              "matrix([[0, 0, 0, 0],\n",
              "        [1, 0, 0, 0],\n",
              "        [0, 0, 0, 0],\n",
              "        [0, 0, 1, 0],\n",
              "        [0, 1, 0, 0],\n",
              "        [0, 0, 1, 0],\n",
              "        [0, 0, 0, 0],\n",
              "        [0, 0, 0, 1],\n",
              "        [0, 1, 0, 1],\n",
              "        [0, 0, 0, 0]])"
            ]
          },
          "metadata": {
            "tags": []
          },
          "execution_count": 20
        }
      ]
    },
    {
      "cell_type": "markdown",
      "metadata": {
        "id": "UYT2wuybynrR"
      },
      "source": [
        "## Using the features from TF-IDF"
      ]
    },
    {
      "cell_type": "code",
      "metadata": {
        "colab": {
          "base_uri": "https://localhost:8080/",
          "height": 0
        },
        "id": "V6rvX3T0u5FC",
        "outputId": "9b22b14b-1e47-4750-9297-ac6c9fd7479b"
      },
      "source": [
        "train_tfidf_matrix = tfidf_matrix[:10]\n",
        "\n",
        "train_tfidf_matrix.todense()"
      ],
      "execution_count": 21,
      "outputs": [
        {
          "output_type": "execute_result",
          "data": {
            "text/plain": [
              "matrix([[0.        , 0.        , 0.        , 0.        ],\n",
              "        [1.        , 0.        , 0.        , 0.        ],\n",
              "        [0.        , 0.        , 0.        , 0.        ],\n",
              "        [0.        , 0.        , 1.        , 0.        ],\n",
              "        [0.        , 1.        , 0.        , 0.        ],\n",
              "        [0.        , 0.        , 1.        , 0.        ],\n",
              "        [0.        , 0.        , 0.        , 0.        ],\n",
              "        [0.        , 0.        , 0.        , 1.        ],\n",
              "        [0.        , 0.70710678, 0.        , 0.70710678],\n",
              "        [0.        , 0.        , 0.        , 0.        ]])"
            ]
          },
          "metadata": {
            "tags": []
          },
          "execution_count": 21
        }
      ]
    },
    {
      "cell_type": "code",
      "metadata": {
        "id": "GGpJj9xvu5FD"
      },
      "source": [
        "from sklearn.model_selection import train_test_split\n",
        "x_train_bow,x_valid_bow,y_train_bow,y_valid_bow = train_test_split(train_bow,train['Polarity'],test_size=0.3,random_state=2)\n",
        "x_train_tfidf,x_valid_tfidf,y_train_tfidf,y_valid_tfidf = train_test_split(train_tfidf_matrix,train['Polarity'],test_size=0.3,random_state=17)"
      ],
      "execution_count": 22,
      "outputs": []
    },
    {
      "cell_type": "markdown",
      "metadata": {
        "id": "tdcaQMcqytDu"
      },
      "source": [
        "## Decision Tree"
      ]
    },
    {
      "cell_type": "markdown",
      "metadata": {
        "id": "iDRf3Hf6yvoL"
      },
      "source": [
        "# Using Bag of words feature"
      ]
    },
    {
      "cell_type": "code",
      "metadata": {
        "colab": {
          "base_uri": "https://localhost:8080/",
          "height": 0
        },
        "id": "Fu_Kqz6mu5FE",
        "outputId": "134c0f35-c79b-4ea7-e8d2-37ea919857bc"
      },
      "source": [
        "\n",
        "\n",
        "from sklearn.tree import DecisionTreeClassifier\n",
        "from sklearn.metrics import f1_score\n",
        "dct = DecisionTreeClassifier(criterion='entropy', random_state=1)\n",
        "\n",
        "\n",
        "dct.fit(x_train_bow,y_train_bow)"
      ],
      "execution_count": 23,
      "outputs": [
        {
          "output_type": "execute_result",
          "data": {
            "text/plain": [
              "DecisionTreeClassifier(ccp_alpha=0.0, class_weight=None, criterion='entropy',\n",
              "                       max_depth=None, max_features=None, max_leaf_nodes=None,\n",
              "                       min_impurity_decrease=0.0, min_impurity_split=None,\n",
              "                       min_samples_leaf=1, min_samples_split=2,\n",
              "                       min_weight_fraction_leaf=0.0, presort='deprecated',\n",
              "                       random_state=1, splitter='best')"
            ]
          },
          "metadata": {
            "tags": []
          },
          "execution_count": 23
        }
      ]
    },
    {
      "cell_type": "code",
      "metadata": {
        "colab": {
          "base_uri": "https://localhost:8080/",
          "height": 0
        },
        "id": "PaPwEc5Gu5FE",
        "outputId": "4f53eb2f-8d02-430e-f3b5-69f2b391308f"
      },
      "source": [
        "dct_bow = dct.predict_proba(x_valid_bow)\n",
        "\n",
        "dct_bow"
      ],
      "execution_count": 24,
      "outputs": [
        {
          "output_type": "execute_result",
          "data": {
            "text/plain": [
              "array([[1.  , 0.  ],\n",
              "       [0.75, 0.25],\n",
              "       [0.  , 1.  ]])"
            ]
          },
          "metadata": {
            "tags": []
          },
          "execution_count": 24
        }
      ]
    },
    {
      "cell_type": "markdown",
      "metadata": {
        "id": "JVqN0B_vyxk2"
      },
      "source": [
        "if prediction is greater than or equal to 0.3 than 1 else 0\r\n",
        "\r\n",
        "Where 0 is for positive sentiment tweets and 1 for negative sentiment tweets\r\n",
        "New Section\r\n",
        "\r\n",
        "converting the results to integer type\r\n",
        "\r\n",
        "calculating f1 score"
      ]
    },
    {
      "cell_type": "code",
      "metadata": {
        "colab": {
          "base_uri": "https://localhost:8080/",
          "height": 0
        },
        "id": "fPeoBHv7u5FF",
        "outputId": "cbd8f1af-f1ac-4399-83bb-48c8786ec8f7"
      },
      "source": [
        "y_int_valid_bow=y_valid_bow.replace('Happy',0)\n",
        "y_int_valid_bow=y_int_valid_bow.replace('Sad',1)\n",
        "\n",
        "\n",
        "dct_bow=dct_bow[:,1]>=0.3\n",
        "\n",
        "dct_int_bow=dct_bow.astype(np.int)\n",
        "\n",
        "dct_score_bow=f1_score(y_int_valid_bow,dct_int_bow)\n",
        "\n",
        "dct_score_bow"
      ],
      "execution_count": 25,
      "outputs": [
        {
          "output_type": "execute_result",
          "data": {
            "text/plain": [
              "1.0"
            ]
          },
          "metadata": {
            "tags": []
          },
          "execution_count": 25
        }
      ]
    },
    {
      "cell_type": "markdown",
      "metadata": {
        "id": "f4Go3CZRy9vB"
      },
      "source": [
        "## Using TF-IDF Features"
      ]
    },
    {
      "cell_type": "code",
      "metadata": {
        "colab": {
          "base_uri": "https://localhost:8080/",
          "height": 0
        },
        "id": "SsmuqQO8u5FG",
        "outputId": "7c62e613-7cfe-4f4c-9a50-c6b2f5c5837b"
      },
      "source": [
        "\n",
        "dct.fit(x_train_tfidf,y_train_tfidf)"
      ],
      "execution_count": 26,
      "outputs": [
        {
          "output_type": "execute_result",
          "data": {
            "text/plain": [
              "DecisionTreeClassifier(ccp_alpha=0.0, class_weight=None, criterion='entropy',\n",
              "                       max_depth=None, max_features=None, max_leaf_nodes=None,\n",
              "                       min_impurity_decrease=0.0, min_impurity_split=None,\n",
              "                       min_samples_leaf=1, min_samples_split=2,\n",
              "                       min_weight_fraction_leaf=0.0, presort='deprecated',\n",
              "                       random_state=1, splitter='best')"
            ]
          },
          "metadata": {
            "tags": []
          },
          "execution_count": 26
        }
      ]
    },
    {
      "cell_type": "code",
      "metadata": {
        "colab": {
          "base_uri": "https://localhost:8080/",
          "height": 0
        },
        "id": "x3F5ddvLu5FG",
        "outputId": "1af6d998-a8ca-44d1-f70f-c60f5cff5eef"
      },
      "source": [
        "dct_tfidf = dct.predict_proba(x_valid_tfidf)\n",
        "\n",
        "dct_tfidf"
      ],
      "execution_count": 27,
      "outputs": [
        {
          "output_type": "execute_result",
          "data": {
            "text/plain": [
              "array([[0.66666667, 0.33333333],\n",
              "       [0.66666667, 0.33333333],\n",
              "       [0.        , 1.        ]])"
            ]
          },
          "metadata": {
            "tags": []
          },
          "execution_count": 27
        }
      ]
    },
    {
      "cell_type": "code",
      "metadata": {
        "colab": {
          "base_uri": "https://localhost:8080/",
          "height": 0
        },
        "id": "N2yU3n5Fu5FH",
        "outputId": "0f9c8ff2-41b6-4f19-8817-e9430bc4911e"
      },
      "source": [
        "y_int_valid_tfidf=y_valid_tfidf.replace('Happy',0)\n",
        "y_int_valid_tfidf=y_int_valid_tfidf.replace('Sad',1)\n",
        "\n",
        "dct_tfidf=dct_tfidf[:,1]>=0.3\n",
        "\n",
        "\n",
        "dct_int_tfidf=dct_tfidf.astype(np.int)\n",
        "\n",
        "dct_score_tfidf=f1_score(y_int_valid_tfidf,dct_int_tfidf)\n",
        "\n",
        "dct_score_tfidf"
      ],
      "execution_count": 28,
      "outputs": [
        {
          "output_type": "execute_result",
          "data": {
            "text/plain": [
              "0.8"
            ]
          },
          "metadata": {
            "tags": []
          },
          "execution_count": 28
        }
      ]
    },
    {
      "cell_type": "markdown",
      "metadata": {
        "id": "A4J0G7d_zE8d"
      },
      "source": [
        "# Using Decision Tree Model to Predict for the Test Data"
      ]
    },
    {
      "cell_type": "code",
      "metadata": {
        "id": "EqbtY1hFu5FH"
      },
      "source": [
        "test_tfidf = tfidf_matrix[10:]\n",
        "\n",
        "test_pred = dct.predict_proba(test_tfidf)\n",
        "\n",
        "test_pred_int = test_pred[:,1] >= 0.3\n",
        "\n",
        "test_pred_int = test_pred_int.astype(np.int)\n",
        "\n",
        "test['Polarity'] = test_pred_int\n",
        "\n",
        "submission = test[['Comment','Polarity']]\n",
        "\n",
        "submission.to_csv('result.csv', index=False)"
      ],
      "execution_count": 29,
      "outputs": []
    },
    {
      "cell_type": "code",
      "metadata": {
        "colab": {
          "base_uri": "https://localhost:8080/",
          "height": 202
        },
        "id": "EGWYe8asu5FI",
        "outputId": "9cab37e2-bab7-462e-c0f5-f45295172458"
      },
      "source": [
        "res = pd.read_csv('result.csv')\n",
        "res"
      ],
      "execution_count": 30,
      "outputs": [
        {
          "output_type": "execute_result",
          "data": {
            "text/html": [
              "<div>\n",
              "<style scoped>\n",
              "    .dataframe tbody tr th:only-of-type {\n",
              "        vertical-align: middle;\n",
              "    }\n",
              "\n",
              "    .dataframe tbody tr th {\n",
              "        vertical-align: top;\n",
              "    }\n",
              "\n",
              "    .dataframe thead th {\n",
              "        text-align: right;\n",
              "    }\n",
              "</style>\n",
              "<table border=\"1\" class=\"dataframe\">\n",
              "  <thead>\n",
              "    <tr style=\"text-align: right;\">\n",
              "      <th></th>\n",
              "      <th>Comment</th>\n",
              "      <th>Polarity</th>\n",
              "    </tr>\n",
              "  </thead>\n",
              "  <tbody>\n",
              "    <tr>\n",
              "      <th>0</th>\n",
              "      <td>@user the pic says otherwise for young girls c...</td>\n",
              "      <td>1</td>\n",
              "    </tr>\n",
              "    <tr>\n",
              "      <th>1</th>\n",
              "      <td>#good night! ?? #faith ever #vaitacacommafiasdv</td>\n",
              "      <td>0</td>\n",
              "    </tr>\n",
              "    <tr>\n",
              "      <th>2</th>\n",
              "      <td>@user when you're blocked by a troll because y...</td>\n",
              "      <td>1</td>\n",
              "    </tr>\n",
              "    <tr>\n",
              "      <th>3</th>\n",
              "      <td>dinner with sister!!</td>\n",
              "      <td>1</td>\n",
              "    </tr>\n",
              "    <tr>\n",
              "      <th>4</th>\n",
              "      <td>who else is planning on watching @user tomorrow?</td>\n",
              "      <td>1</td>\n",
              "    </tr>\n",
              "  </tbody>\n",
              "</table>\n",
              "</div>"
            ],
            "text/plain": [
              "                                             Comment  Polarity\n",
              "0  @user the pic says otherwise for young girls c...         1\n",
              "1    #good night! ?? #faith ever #vaitacacommafiasdv         0\n",
              "2  @user when you're blocked by a troll because y...         1\n",
              "3                               dinner with sister!!         1\n",
              "4   who else is planning on watching @user tomorrow?         1"
            ]
          },
          "metadata": {
            "tags": []
          },
          "execution_count": 30
        }
      ]
    },
    {
      "cell_type": "code",
      "metadata": {
        "colab": {
          "base_uri": "https://localhost:8080/",
          "height": 202
        },
        "id": "GKLqSlPcu5FJ",
        "outputId": "34e273b8-94d6-4e6a-ff2e-ebd278fef31f"
      },
      "source": [
        "res['Polarity'] = res['Polarity'].replace([1],'Sad')\n",
        "res['Polarity'] = res['Polarity'].replace([0],'Happy')\n",
        "res"
      ],
      "execution_count": 31,
      "outputs": [
        {
          "output_type": "execute_result",
          "data": {
            "text/html": [
              "<div>\n",
              "<style scoped>\n",
              "    .dataframe tbody tr th:only-of-type {\n",
              "        vertical-align: middle;\n",
              "    }\n",
              "\n",
              "    .dataframe tbody tr th {\n",
              "        vertical-align: top;\n",
              "    }\n",
              "\n",
              "    .dataframe thead th {\n",
              "        text-align: right;\n",
              "    }\n",
              "</style>\n",
              "<table border=\"1\" class=\"dataframe\">\n",
              "  <thead>\n",
              "    <tr style=\"text-align: right;\">\n",
              "      <th></th>\n",
              "      <th>Comment</th>\n",
              "      <th>Polarity</th>\n",
              "    </tr>\n",
              "  </thead>\n",
              "  <tbody>\n",
              "    <tr>\n",
              "      <th>0</th>\n",
              "      <td>@user the pic says otherwise for young girls c...</td>\n",
              "      <td>Sad</td>\n",
              "    </tr>\n",
              "    <tr>\n",
              "      <th>1</th>\n",
              "      <td>#good night! ?? #faith ever #vaitacacommafiasdv</td>\n",
              "      <td>Happy</td>\n",
              "    </tr>\n",
              "    <tr>\n",
              "      <th>2</th>\n",
              "      <td>@user when you're blocked by a troll because y...</td>\n",
              "      <td>Sad</td>\n",
              "    </tr>\n",
              "    <tr>\n",
              "      <th>3</th>\n",
              "      <td>dinner with sister!!</td>\n",
              "      <td>Sad</td>\n",
              "    </tr>\n",
              "    <tr>\n",
              "      <th>4</th>\n",
              "      <td>who else is planning on watching @user tomorrow?</td>\n",
              "      <td>Sad</td>\n",
              "    </tr>\n",
              "  </tbody>\n",
              "</table>\n",
              "</div>"
            ],
            "text/plain": [
              "                                             Comment Polarity\n",
              "0  @user the pic says otherwise for young girls c...      Sad\n",
              "1    #good night! ?? #faith ever #vaitacacommafiasdv    Happy\n",
              "2  @user when you're blocked by a troll because y...      Sad\n",
              "3                               dinner with sister!!      Sad\n",
              "4   who else is planning on watching @user tomorrow?      Sad"
            ]
          },
          "metadata": {
            "tags": []
          },
          "execution_count": 31
        }
      ]
    },
    {
      "cell_type": "code",
      "metadata": {
        "colab": {
          "base_uri": "https://localhost:8080/",
          "height": 509
        },
        "id": "vHYLrDzzu5FK",
        "outputId": "65d5b594-2e6c-484f-bd13-c609b81c110c"
      },
      "source": [
        "combine = train.append(res,ignore_index=True,sort=True)\n",
        "combine"
      ],
      "execution_count": 32,
      "outputs": [
        {
          "output_type": "execute_result",
          "data": {
            "text/html": [
              "<div>\n",
              "<style scoped>\n",
              "    .dataframe tbody tr th:only-of-type {\n",
              "        vertical-align: middle;\n",
              "    }\n",
              "\n",
              "    .dataframe tbody tr th {\n",
              "        vertical-align: top;\n",
              "    }\n",
              "\n",
              "    .dataframe thead th {\n",
              "        text-align: right;\n",
              "    }\n",
              "</style>\n",
              "<table border=\"1\" class=\"dataframe\">\n",
              "  <thead>\n",
              "    <tr style=\"text-align: right;\">\n",
              "      <th></th>\n",
              "      <th>Comment</th>\n",
              "      <th>Polarity</th>\n",
              "    </tr>\n",
              "  </thead>\n",
              "  <tbody>\n",
              "    <tr>\n",
              "      <th>0</th>\n",
              "      <td>@user if they want reflection money. #ksleg</td>\n",
              "      <td>Happy</td>\n",
              "    </tr>\n",
              "    <tr>\n",
              "      <th>1</th>\n",
              "      <td>Good job but I will expect a lot more in future.</td>\n",
              "      <td>Happy</td>\n",
              "    </tr>\n",
              "    <tr>\n",
              "      <th>2</th>\n",
              "      <td>time to eat with my best buddy! #lunch</td>\n",
              "      <td>Happy</td>\n",
              "    </tr>\n",
              "    <tr>\n",
              "      <th>3</th>\n",
              "      <td>totally dissatisfied with the service###%%@@ n...</td>\n",
              "      <td>Sad</td>\n",
              "    </tr>\n",
              "    <tr>\n",
              "      <th>4</th>\n",
              "      <td>loved my work!!!!!</td>\n",
              "      <td>Happy</td>\n",
              "    </tr>\n",
              "    <tr>\n",
              "      <th>5</th>\n",
              "      <td>Worst customer care service......@@$$$angry</td>\n",
              "      <td>Sad</td>\n",
              "    </tr>\n",
              "    <tr>\n",
              "      <th>6</th>\n",
              "      <td>Brilliant effort guys!!!</td>\n",
              "      <td>Happy</td>\n",
              "    </tr>\n",
              "    <tr>\n",
              "      <th>7</th>\n",
              "      <td>@user you point one finger user millions are p...</td>\n",
              "      <td>Sad</td>\n",
              "    </tr>\n",
              "    <tr>\n",
              "      <th>8</th>\n",
              "      <td>words r free it's how u use that can cost you!...</td>\n",
              "      <td>Happy</td>\n",
              "    </tr>\n",
              "    <tr>\n",
              "      <th>9</th>\n",
              "      <td>you might be a libtard if... #libtard #sjw #li...</td>\n",
              "      <td>Sad</td>\n",
              "    </tr>\n",
              "    <tr>\n",
              "      <th>10</th>\n",
              "      <td>@user the pic says otherwise for young girls c...</td>\n",
              "      <td>Sad</td>\n",
              "    </tr>\n",
              "    <tr>\n",
              "      <th>11</th>\n",
              "      <td>#good night! ?? #faith ever #vaitacacommafiasdv</td>\n",
              "      <td>Happy</td>\n",
              "    </tr>\n",
              "    <tr>\n",
              "      <th>12</th>\n",
              "      <td>@user when you're blocked by a troll because y...</td>\n",
              "      <td>Sad</td>\n",
              "    </tr>\n",
              "    <tr>\n",
              "      <th>13</th>\n",
              "      <td>dinner with sister!!</td>\n",
              "      <td>Sad</td>\n",
              "    </tr>\n",
              "    <tr>\n",
              "      <th>14</th>\n",
              "      <td>who else is planning on watching @user tomorrow?</td>\n",
              "      <td>Sad</td>\n",
              "    </tr>\n",
              "  </tbody>\n",
              "</table>\n",
              "</div>"
            ],
            "text/plain": [
              "                                              Comment Polarity\n",
              "0         @user if they want reflection money. #ksleg    Happy\n",
              "1   Good job but I will expect a lot more in future.    Happy\n",
              "2              time to eat with my best buddy! #lunch    Happy\n",
              "3   totally dissatisfied with the service###%%@@ n...      Sad\n",
              "4                                  loved my work!!!!!    Happy\n",
              "5         Worst customer care service......@@$$$angry      Sad\n",
              "6                            Brilliant effort guys!!!    Happy\n",
              "7   @user you point one finger user millions are p...      Sad\n",
              "8   words r free it's how u use that can cost you!...    Happy\n",
              "9   you might be a libtard if... #libtard #sjw #li...      Sad\n",
              "10  @user the pic says otherwise for young girls c...      Sad\n",
              "11    #good night! ?? #faith ever #vaitacacommafiasdv    Happy\n",
              "12  @user when you're blocked by a troll because y...      Sad\n",
              "13                               dinner with sister!!      Sad\n",
              "14   who else is planning on watching @user tomorrow?      Sad"
            ]
          },
          "metadata": {
            "tags": []
          },
          "execution_count": 32
        }
      ]
    },
    {
      "cell_type": "markdown",
      "metadata": {
        "id": "tdTqt6W9zH52"
      },
      "source": [
        "# Save the Trained Model"
      ]
    },
    {
      "cell_type": "code",
      "metadata": {
        "id": "KJVSkOFHu5FL"
      },
      "source": [
        "\n",
        "pickle.dump(dct, open('trainedModel.pkl', 'wb'))"
      ],
      "execution_count": 33,
      "outputs": []
    },
    {
      "cell_type": "markdown",
      "metadata": {
        "id": "WlfbfNnQzKs-"
      },
      "source": [
        "# Take Input from User"
      ]
    },
    {
      "cell_type": "code",
      "metadata": {
        "colab": {
          "base_uri": "https://localhost:8080/",
          "height": 0
        },
        "id": "cwiSuqQlu5FM",
        "outputId": "e653414c-1a08-4769-ba87-9d84fa43fcc5"
      },
      "source": [
        "\n",
        "Sentence_input = input(\"\\nPlease enter a sentence (Something positive/negative) : \").strip()"
      ],
      "execution_count": 60,
      "outputs": [
        {
          "output_type": "stream",
          "text": [
            "\n",
            "Please enter a sentence (Something positive/negative) : ayesha is my group member arose\n"
          ],
          "name": "stdout"
        }
      ]
    },
    {
      "cell_type": "markdown",
      "metadata": {
        "id": "IWYCyU6IzWqv"
      },
      "source": [
        "# Convert User Input into Feature Vector"
      ]
    },
    {
      "cell_type": "code",
      "metadata": {
        "colab": {
          "base_uri": "https://localhost:8080/",
          "height": 0
        },
        "id": "LembhUFdu5FN",
        "outputId": "e96f5945-666b-46d3-c5fa-3ff61170410d"
      },
      "source": [
        "\n",
        "\n",
        "user_input = pd.DataFrame({ 'id': ['1'],'Comment': [Sentence_input]})\n",
        "                           \n",
        "print(user_input)"
      ],
      "execution_count": 61,
      "outputs": [
        {
          "output_type": "stream",
          "text": [
            "\n",
            "\n",
            "User Input Feature Vector:\n",
            "==========================\n",
            "\n",
            "  id                          Comment\n",
            "0  1  ayesha is my group member arose\n"
          ],
          "name": "stdout"
        }
      ]
    },
    {
      "cell_type": "markdown",
      "metadata": {
        "id": "nnU6ePOmzeyD"
      },
      "source": [
        "# Reapply everything to make it useable"
      ]
    },
    {
      "cell_type": "code",
      "metadata": {
        "colab": {
          "base_uri": "https://localhost:8080/",
          "height": 0
        },
        "id": "xL2A8ERau5FP",
        "outputId": "587b9471-7b71-4d8e-944b-8412adc4a7c7"
      },
      "source": [
        "\n",
        "user_input['Tidy_Comments'] = np.vectorize(remove_pattern)(user_input['Comment'], \"@[\\w]*\")\n",
        "user_input['Tidy_Comments'] = user_input['Tidy_Comments'].str.replace(\"[^a-zA-Z#]\", \" \")\n",
        "user_input['Tidy_Comments'] = user_input['Tidy_Comments'].apply(lambda x: ' '.join([w for w in x.split() if len(w)>3]))\n",
        "tokenized_comment = user_input['Tidy_Comments'].apply(lambda x: x.split())\n",
        "\n",
        "ps = PorterStemmer()\n",
        "tokenized_comment = tokenized_comment.apply(lambda x: [ps.stem(i) for i in x])\n",
        "\n",
        "for i in range(len(tokenized_comment)):\n",
        "    tokenized_comment[i] = ' '.join(tokenized_comment[i])\n",
        "\n",
        "user_input['Tidy_Comments'] = tokenized_comment\n",
        "\n",
        "user_input['Tidy_Comments']\n"
      ],
      "execution_count": 62,
      "outputs": [
        {
          "output_type": "execute_result",
          "data": {
            "text/plain": [
              "0    ayesha group member aros\n",
              "Name: Tidy_Comments, dtype: object"
            ]
          },
          "metadata": {
            "tags": []
          },
          "execution_count": 62
        }
      ]
    },
    {
      "cell_type": "markdown",
      "metadata": {
        "id": "B1TuZ_Z1zkiq"
      },
      "source": [
        "# extracting features"
      ]
    },
    {
      "cell_type": "code",
      "metadata": {
        "colab": {
          "base_uri": "https://localhost:8080/",
          "height": 79
        },
        "id": "waU_Exzuu5FR",
        "outputId": "b11402c5-bd75-4a59-fb2d-8abf443cf3b4"
      },
      "source": [
        "\n",
        "bow_vectorizer = CountVectorizer(max_df=1.0, min_df=1, max_features=10, stop_words='english')\n",
        "\n",
        "bow = bow_vectorizer.fit_transform(user_input['Tidy_Comments'])\n",
        "df_user_bow = pd.DataFrame(bow.todense())\n",
        "\n",
        "df_user_bow"
      ],
      "execution_count": 63,
      "outputs": [
        {
          "output_type": "execute_result",
          "data": {
            "text/html": [
              "<div>\n",
              "<style scoped>\n",
              "    .dataframe tbody tr th:only-of-type {\n",
              "        vertical-align: middle;\n",
              "    }\n",
              "\n",
              "    .dataframe tbody tr th {\n",
              "        vertical-align: top;\n",
              "    }\n",
              "\n",
              "    .dataframe thead th {\n",
              "        text-align: right;\n",
              "    }\n",
              "</style>\n",
              "<table border=\"1\" class=\"dataframe\">\n",
              "  <thead>\n",
              "    <tr style=\"text-align: right;\">\n",
              "      <th></th>\n",
              "      <th>0</th>\n",
              "      <th>1</th>\n",
              "      <th>2</th>\n",
              "      <th>3</th>\n",
              "    </tr>\n",
              "  </thead>\n",
              "  <tbody>\n",
              "    <tr>\n",
              "      <th>0</th>\n",
              "      <td>1</td>\n",
              "      <td>1</td>\n",
              "      <td>1</td>\n",
              "      <td>1</td>\n",
              "    </tr>\n",
              "  </tbody>\n",
              "</table>\n",
              "</div>"
            ],
            "text/plain": [
              "   0  1  2  3\n",
              "0  1  1  1  1"
            ]
          },
          "metadata": {
            "tags": []
          },
          "execution_count": 63
        }
      ]
    },
    {
      "cell_type": "markdown",
      "metadata": {
        "id": "SCtLY4f6zohW"
      },
      "source": [
        "# extracting features"
      ]
    },
    {
      "cell_type": "code",
      "metadata": {
        "colab": {
          "base_uri": "https://localhost:8080/",
          "height": 79
        },
        "id": "laW7GRpuu5FT",
        "outputId": "7ad147b3-9bd7-47b4-a763-ffe273b29cca"
      },
      "source": [
        "\n",
        "tfidf=TfidfVectorizer(max_df=1.0, min_df=1,max_features=1000,stop_words='english')\n",
        "\n",
        "# TF-IDF feature matrix\n",
        "user_tfidf_matrix=tfidf.fit_transform(user_input['Tidy_Comments'] )\n",
        "# convert to data frame\n",
        "df_user_tfidf = pd.DataFrame(user_tfidf_matrix.toarray())\n",
        "\n",
        "df_user_tfidf"
      ],
      "execution_count": 64,
      "outputs": [
        {
          "output_type": "execute_result",
          "data": {
            "text/html": [
              "<div>\n",
              "<style scoped>\n",
              "    .dataframe tbody tr th:only-of-type {\n",
              "        vertical-align: middle;\n",
              "    }\n",
              "\n",
              "    .dataframe tbody tr th {\n",
              "        vertical-align: top;\n",
              "    }\n",
              "\n",
              "    .dataframe thead th {\n",
              "        text-align: right;\n",
              "    }\n",
              "</style>\n",
              "<table border=\"1\" class=\"dataframe\">\n",
              "  <thead>\n",
              "    <tr style=\"text-align: right;\">\n",
              "      <th></th>\n",
              "      <th>0</th>\n",
              "      <th>1</th>\n",
              "      <th>2</th>\n",
              "      <th>3</th>\n",
              "    </tr>\n",
              "  </thead>\n",
              "  <tbody>\n",
              "    <tr>\n",
              "      <th>0</th>\n",
              "      <td>0.5</td>\n",
              "      <td>0.5</td>\n",
              "      <td>0.5</td>\n",
              "      <td>0.5</td>\n",
              "    </tr>\n",
              "  </tbody>\n",
              "</table>\n",
              "</div>"
            ],
            "text/plain": [
              "     0    1    2    3\n",
              "0  0.5  0.5  0.5  0.5"
            ]
          },
          "metadata": {
            "tags": []
          },
          "execution_count": 64
        }
      ]
    },
    {
      "cell_type": "markdown",
      "metadata": {
        "id": "NmZFCbqUzrEb"
      },
      "source": [
        "# Load the Saved Model"
      ]
    },
    {
      "cell_type": "code",
      "metadata": {
        "id": "xTnYg1w4u5FU"
      },
      "source": [
        "\n",
        "\n",
        "model = pickle.load(open('trainedModel.pkl', 'rb'))"
      ],
      "execution_count": 65,
      "outputs": []
    },
    {
      "cell_type": "code",
      "metadata": {
        "colab": {
          "base_uri": "https://localhost:8080/",
          "height": 0
        },
        "id": "vldrncMTu5FV",
        "outputId": "1502382f-504b-4176-af56-e7bb6bd8b69b"
      },
      "source": [
        "input_pred = model.predict_proba(user_tfidf_matrix)\n",
        "\n",
        "test_pred_int = test_pred[:,1] >= 0.3\n",
        "\n",
        "test_pred_int = test_pred_int.astype(np.int)\n",
        "\n",
        "\n",
        "print(test_pred_int )"
      ],
      "execution_count": 68,
      "outputs": [
        {
          "output_type": "stream",
          "text": [
            "[1 0 1 1 1]\n"
          ],
          "name": "stdout"
        }
      ]
    },
    {
      "cell_type": "code",
      "metadata": {
        "id": "WLbL3_K5u5FW"
      },
      "source": [
        ""
      ],
      "execution_count": 66,
      "outputs": []
    }
  ]
}