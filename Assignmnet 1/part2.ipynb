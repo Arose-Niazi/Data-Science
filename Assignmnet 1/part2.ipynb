{
 "cells": [
  {
   "cell_type": "code",
   "execution_count": 1,
   "metadata": {},
   "outputs": [
    {
     "name": "stdout",
     "output_type": "stream",
     "text": [
      "String: are used to storing words or combinations of words having letters, numbers, special characters, etc.\n",
      "\n",
      "Why?\n",
      "Strings are like an array of characters that can be accessed like array elements. This structure is used because it \n",
      "depicts the textual representation of data. In data science and Machine, learning Strings are a crucial ingredient \n",
      "for labeling the data. Strings can further be used for creating classical dictionary programs.\n",
      "\n",
      "When?\n",
      "Strings are rigorously used for prompting the users for input or any other message.\n",
      "\n",
      "Where?\n",
      "Strings are used in text comparison, OOP (to.string() methods), and string concatenation.\n",
      "\n",
      "\n"
     ]
    }
   ],
   "source": [
    "print(\"\"\"String: are used to storing words or combinations of words having letters, numbers, special characters, etc.\n",
    "\n",
    "Why?\n",
    "Strings are like an array of characters that can be accessed like array elements. This structure is used because it \n",
    "depicts the textual representation of data. In data science and Machine, learning Strings are a crucial ingredient \n",
    "for labeling the data. Strings can further be used for creating classical dictionary programs.\n",
    "\n",
    "When?\n",
    "Strings are rigorously used for prompting the users for input or any other message.\n",
    "\n",
    "Where?\n",
    "Strings are used in text comparison, OOP (to.string() methods), and string concatenation.\n",
    "\n",
    "\"\"\")"
   ]
  },
  {
   "cell_type": "code",
   "execution_count": 2,
   "metadata": {},
   "outputs": [
    {
     "name": "stdout",
     "output_type": "stream",
     "text": [
      "Example 1\n"
     ]
    },
    {
     "data": {
      "text/plain": [
       "'Arose'"
      ]
     },
     "execution_count": 2,
     "metadata": {},
     "output_type": "execute_result"
    }
   ],
   "source": [
    "print(\"Example 1\")\n",
    "name = \"Arose Niazi\"\n",
    "name[:name.find(\" \")]"
   ]
  },
  {
   "cell_type": "code",
   "execution_count": 3,
   "metadata": {},
   "outputs": [
    {
     "name": "stdout",
     "output_type": "stream",
     "text": [
      "Example 2\n"
     ]
    },
    {
     "data": {
      "text/plain": [
       "'Niazi'"
      ]
     },
     "execution_count": 3,
     "metadata": {},
     "output_type": "execute_result"
    }
   ],
   "source": [
    "print(\"Example 2\")\n",
    "name[name.find(\" \")+1:]"
   ]
  },
  {
   "cell_type": "code",
   "execution_count": 4,
   "metadata": {},
   "outputs": [
    {
     "name": "stdout",
     "output_type": "stream",
     "text": [
      "Example 3 This is an example of multi line string with escape characters as well\n",
      "Hey,\n",
      "\tI hope you are all right last night you didn't come only to play 'Among us'.\n",
      "Your one and only,\n",
      "Arose Niazi\n"
     ]
    }
   ],
   "source": [
    "print(\"Example 3\",\"This is an example of multi line string with escape characters as well\")\n",
    "message = \"\"\"Hey,\n",
    "\\tI hope you are all right last night you didn't come only to play 'Among us'.\n",
    "Your one and only,\n",
    "Arose Niazi\"\"\"\n",
    "\n",
    "print(message)"
   ]
  },
  {
   "cell_type": "code",
   "execution_count": 5,
   "metadata": {},
   "outputs": [
    {
     "name": "stdout",
     "output_type": "stream",
     "text": [
      "List: A list is a collection. It's ordered and changeable which allows duplicates as well.\n",
      "\n",
      "Why?\n",
      "A list is used for storing data in an ordered/unordered manner statically inside the memory. \n",
      "It works like arrays in 'Java' and 'C'.\n",
      "\n",
      "When?\n",
      "Lists are used when we have to elements of specific data types inside the memory in a specific order.\n",
      "This data could be ascending or descending depending on the data.\n",
      "\n",
      "Where?\n",
      "Lists are used in applications where a list of data has to be stored. \n",
      "For example, names of products for a business, etc. They are also used in backend programming as Adjacency Matrices.\n",
      "\n",
      "\n"
     ]
    }
   ],
   "source": [
    "print(\"\"\"List: A list is a collection. It's ordered and changeable which allows duplicates as well.\n",
    "\n",
    "Why?\n",
    "A list is used for storing data in an ordered/unordered manner statically inside the memory. \n",
    "It works like arrays in 'Java' and 'C'.\n",
    "\n",
    "When?\n",
    "Lists are used when we have to elements of specific data types inside the memory in a specific order.\n",
    "This data could be ascending or descending depending on the data.\n",
    "\n",
    "Where?\n",
    "Lists are used in applications where a list of data has to be stored. \n",
    "For example, names of products for a business, etc. They are also used in backend programming as Adjacency Matrices.\n",
    "\n",
    "\"\"\")\n",
    "\n"
   ]
  },
  {
   "cell_type": "code",
   "execution_count": 6,
   "metadata": {},
   "outputs": [
    {
     "name": "stdout",
     "output_type": "stream",
     "text": [
      "Example 1\n"
     ]
    },
    {
     "data": {
      "text/plain": [
       "['Apple', 'Bananana', 'Grape', 'Mango', 'Orange']"
      ]
     },
     "execution_count": 6,
     "metadata": {},
     "output_type": "execute_result"
    }
   ],
   "source": [
    "print(\"Example 1\")\n",
    "fruits = ['Apple', 'Bananana', 'Grape', 'Mango', 'Orange']\n",
    "fruits"
   ]
  },
  {
   "cell_type": "code",
   "execution_count": 7,
   "metadata": {},
   "outputs": [
    {
     "name": "stdout",
     "output_type": "stream",
     "text": [
      "Example 2\n"
     ]
    },
    {
     "data": {
      "text/plain": [
       "['Grand Theft Auto',\n",
       " 'Grand Theft Auto 2',\n",
       " 'Grand Theft Auto 3',\n",
       " 'Grand Theft Auto: Vice City',\n",
       " 'Grand Theft Auto: San Andreas']"
      ]
     },
     "execution_count": 7,
     "metadata": {},
     "output_type": "execute_result"
    }
   ],
   "source": [
    "print(\"Example 2\")\n",
    "gta_games = ['Grand Theft Auto', 'Grand Theft Auto 2', 'Grand Theft Auto 3', 'Grand Theft Auto: Vice City', 'Grand Theft Auto: San Andreas']\n",
    "gta_games"
   ]
  },
  {
   "cell_type": "code",
   "execution_count": 8,
   "metadata": {},
   "outputs": [
    {
     "name": "stdout",
     "output_type": "stream",
     "text": [
      "Example 3\n"
     ]
    },
    {
     "data": {
      "text/plain": [
       "['Pikachu', 'Caterpie', 'Pidgeotto', 'Bulbasaur', 'Charmander', 'Squirtle']"
      ]
     },
     "execution_count": 8,
     "metadata": {},
     "output_type": "execute_result"
    }
   ],
   "source": [
    "print(\"Example 3\")\n",
    "ash_pokemon = ['Pikachu', 'Caterpie', 'Pidgeotto', 'Bulbasaur', 'Charmander', 'Squirtle']\n",
    "ash_pokemon"
   ]
  },
  {
   "cell_type": "code",
   "execution_count": 9,
   "metadata": {},
   "outputs": [
    {
     "name": "stdout",
     "output_type": "stream",
     "text": [
      "Dictionaries: A dictionary is a collection that is unordered, changeable, and indexed. In Python dictionaries \n",
      "are written with curly brackets, and they have keys and values.\n",
      "\n",
      "Why?\n",
      "Dictionaries are used because they have labeled data which is very useful when it comes to Machine learning where \n",
      "Annotation is one of the keys that is done very efficiently by dictionaries.\n",
      "\n",
      "When?\n",
      "Dictionaries are used when labeled data with key values is needed which are predefined or can be redefined by the \n",
      "user as well.\n",
      "\n",
      "Where?\n",
      "Dictionaries are used in applications like profile management systems where different data has to be stored that \n",
      "is associated with different attributes.\n",
      "\n",
      "\n"
     ]
    }
   ],
   "source": [
    "print(\"\"\"Dictionaries: A dictionary is a collection that is unordered, changeable, and indexed. In Python dictionaries \n",
    "are written with curly brackets, and they have keys and values.\n",
    "\n",
    "Why?\n",
    "Dictionaries are used because they have labeled data which is very useful when it comes to Machine learning where \n",
    "Annotation is one of the keys that is done very efficiently by dictionaries.\n",
    "\n",
    "When?\n",
    "Dictionaries are used when labeled data with key values is needed which are predefined or can be redefined by the \n",
    "user as well.\n",
    "\n",
    "Where?\n",
    "Dictionaries are used in applications like profile management systems where different data has to be stored that \n",
    "is associated with different attributes.\n",
    "\n",
    "\"\"\")\n",
    "\n"
   ]
  },
  {
   "cell_type": "code",
   "execution_count": 10,
   "metadata": {},
   "outputs": [
    {
     "name": "stdout",
     "output_type": "stream",
     "text": [
      "Example 1\n"
     ]
    },
    {
     "data": {
      "text/plain": [
       "{'Anime Name': ['Goku', 'Kakarot'],\n",
       " 'Manga Name': ['Son Goku', 'Kakarot'],\n",
       " 'Race': 'Sayian',\n",
       " 'Height (CM)': 175}"
      ]
     },
     "execution_count": 10,
     "metadata": {},
     "output_type": "execute_result"
    }
   ],
   "source": [
    "print(\"Example 1\")\n",
    "goku_a_name = ['Goku', 'Kakarot']\n",
    "goku_m_name = ['Son Goku', 'Kakarot']\n",
    "goku = {\n",
    "    \"Anime Name\": goku_a_name, \n",
    "    \"Manga Name\": goku_m_name,\n",
    "    \"Race\": \"Sayian\",\n",
    "    \"Height (CM)\": 175\n",
    "}\n",
    "goku"
   ]
  },
  {
   "cell_type": "code",
   "execution_count": 11,
   "metadata": {},
   "outputs": [
    {
     "name": "stdout",
     "output_type": "stream",
     "text": [
      "Example 2\n"
     ]
    },
    {
     "data": {
      "text/plain": [
       "{'Anime Name': ['Goku', 'Kakarot'],\n",
       " 'Manga Name': ['Son Goku', 'Kakarot'],\n",
       " 'Race': 'Sayian',\n",
       " 'Height (CM)': 175,\n",
       " 'Weight (KG)': 62,\n",
       " 'Gender': 'Male',\n",
       " 'Alive': True}"
      ]
     },
     "execution_count": 11,
     "metadata": {},
     "output_type": "execute_result"
    }
   ],
   "source": [
    "print(\"Example 2\")\n",
    "goku.update({\n",
    "    \"Weight (KG)\" : 62,\n",
    "    \"Gender\" : \"Male\",\n",
    "    \"Alive\" : True\n",
    "})\n",
    "goku"
   ]
  },
  {
   "cell_type": "code",
   "execution_count": 12,
   "metadata": {},
   "outputs": [
    {
     "name": "stdout",
     "output_type": "stream",
     "text": [
      "Example 3\n"
     ]
    },
    {
     "data": {
      "text/plain": [
       "{'Anime Name': ['Goku', 'Kakarot'],\n",
       " 'Race': 'Sayian',\n",
       " 'Height (CM)': 175,\n",
       " 'Weight (KG)': 62,\n",
       " 'Gender': 'Male',\n",
       " 'Alive': False}"
      ]
     },
     "execution_count": 12,
     "metadata": {},
     "output_type": "execute_result"
    }
   ],
   "source": [
    "print(\"Example 3\")\n",
    "del goku['Manga Name']\n",
    "goku['Alive'] = False\n",
    "goku"
   ]
  },
  {
   "cell_type": "code",
   "execution_count": 13,
   "metadata": {},
   "outputs": [
    {
     "name": "stdout",
     "output_type": "stream",
     "text": [
      "Tuples: A Tuple is a collection of Python objects separated by commas. In some ways, a tuple is similar to a \n",
      "list in terms of indexing, nested objects, and repetition but a tuple is immutable, unlike mutable lists.\n",
      "\n",
      "Why?\n",
      "Tuples are used because they can have multiple data types and are immutable which makes them secure and better than \n",
      "other data structures as they are Read Only.\n",
      "\n",
      "When?\n",
      "Tuples are used when we need to store data of different nature. A tuple lets us “chunk” together with related information \n",
      "and use it as a single thing.  \n",
      "\n",
      "Where?\n",
      "Tuples are used in Machine learning and programming algorithms as a means to group data like done with lists.\n",
      "\n",
      "\n"
     ]
    }
   ],
   "source": [
    "print(\"\"\"Tuples: A Tuple is a collection of Python objects separated by commas. In some ways, a tuple is similar to a \n",
    "list in terms of indexing, nested objects, and repetition but a tuple is immutable, unlike mutable lists.\n",
    "\n",
    "Why?\n",
    "Tuples are used because they can have multiple data types and are immutable which makes them secure and better than \n",
    "other data structures as they are Read Only.\n",
    "\n",
    "When?\n",
    "Tuples are used when we need to store data of different nature. A tuple lets us “chunk” together with related information \n",
    "and use it as a single thing.  \n",
    "\n",
    "Where?\n",
    "Tuples are used in Machine learning and programming algorithms as a means to group data like done with lists.\n",
    "\n",
    "\"\"\")"
   ]
  },
  {
   "cell_type": "code",
   "execution_count": 14,
   "metadata": {},
   "outputs": [
    {
     "name": "stdout",
     "output_type": "stream",
     "text": [
      "Example 1: Creating\n"
     ]
    },
    {
     "data": {
      "text/plain": [
       "('Muhammad', 'Arose', 'Sibram')"
      ]
     },
     "execution_count": 14,
     "metadata": {},
     "output_type": "execute_result"
    }
   ],
   "source": [
    "print(\"Example 1: Creating\")\n",
    "my_name = (\"Muhammad\", \"Arose\", \"Sibram\")\n",
    "my_name"
   ]
  },
  {
   "cell_type": "code",
   "execution_count": 15,
   "metadata": {},
   "outputs": [
    {
     "name": "stdout",
     "output_type": "stream",
     "text": [
      "Example 2: Adding Two as it can not be modified.\n"
     ]
    },
    {
     "data": {
      "text/plain": [
       "('Muhammad', 'Arose', 'Sibram', 'Khan', 'Niazi', 'Bharamkhel')"
      ]
     },
     "execution_count": 15,
     "metadata": {},
     "output_type": "execute_result"
    }
   ],
   "source": [
    "print(\"Example 2: Adding Two as it can not be modified.\")\n",
    "surname = (\"Khan\", \"Niazi\", \"Bharamkhel\")\n",
    "complete_name = my_name + surname\n",
    "complete_name"
   ]
  },
  {
   "cell_type": "code",
   "execution_count": 16,
   "metadata": {},
   "outputs": [
    {
     "name": "stdout",
     "output_type": "stream",
     "text": [
      "Example 3: Deleting\n"
     ]
    },
    {
     "ename": "NameError",
     "evalue": "name 'complete_name' is not defined",
     "output_type": "error",
     "traceback": [
      "\u001b[1;31m---------------------------------------------------------------------------\u001b[0m",
      "\u001b[1;31mNameError\u001b[0m                                 Traceback (most recent call last)",
      "\u001b[1;32m<ipython-input-16-f087f3e37445>\u001b[0m in \u001b[0;36m<module>\u001b[1;34m\u001b[0m\n\u001b[0;32m      1\u001b[0m \u001b[0mprint\u001b[0m\u001b[1;33m(\u001b[0m\u001b[1;34m\"Example 3: Deleting\"\u001b[0m\u001b[1;33m)\u001b[0m\u001b[1;33m\u001b[0m\u001b[1;33m\u001b[0m\u001b[0m\n\u001b[0;32m      2\u001b[0m \u001b[1;32mdel\u001b[0m \u001b[0mcomplete_name\u001b[0m\u001b[1;33m\u001b[0m\u001b[1;33m\u001b[0m\u001b[0m\n\u001b[1;32m----> 3\u001b[1;33m \u001b[0mcomplete_name\u001b[0m\u001b[1;33m\u001b[0m\u001b[1;33m\u001b[0m\u001b[0m\n\u001b[0m",
      "\u001b[1;31mNameError\u001b[0m: name 'complete_name' is not defined"
     ]
    }
   ],
   "source": [
    "print(\"Example 3: Deleting\")\n",
    "del complete_name\n",
    "complete_name"
   ]
  },
  {
   "cell_type": "code",
   "execution_count": 17,
   "metadata": {},
   "outputs": [
    {
     "name": "stdout",
     "output_type": "stream",
     "text": [
      "Sets: A set is a collection which is unordered and unindexed. In Python, sets are written with curly brackets.\n",
      "\n",
      "Why?\n",
      "Sets are a mathematical notion of sets that make mathematical problems easy to solve because of which they are used widely.\n",
      "\n",
      "When?\n",
      "Sets are used whenever there is a need for highly optimized checking of data in systems or mathematical problems. \n",
      "For example, a set of +ve values and –ve values which represent graphical curves in a mathematical problem.\n",
      "\n",
      "Where?\n",
      "Sets are used in applications related to the structure known as hash tables. Wherever the concept of hashing is used there \n",
      "is a wide possibility of using sets for the sake of ease. E.g.: Phone Books. \n",
      "\n",
      "\n"
     ]
    }
   ],
   "source": [
    "print(\"\"\"Sets: A set is a collection which is unordered and unindexed. In Python, sets are written with curly brackets.\n",
    "\n",
    "Why?\n",
    "Sets are a mathematical notion of sets that make mathematical problems easy to solve because of which they are used widely.\n",
    "\n",
    "When?\n",
    "Sets are used whenever there is a need for highly optimized checking of data in systems or mathematical problems. \n",
    "For example, a set of +ve values and –ve values which represent graphical curves in a mathematical problem.\n",
    "\n",
    "Where?\n",
    "Sets are used in applications related to the structure known as hash tables. Wherever the concept of hashing is used there \n",
    "is a wide possibility of using sets for the sake of ease. E.g.: Phone Books. \n",
    "\n",
    "\"\"\")"
   ]
  },
  {
   "cell_type": "code",
   "execution_count": 18,
   "metadata": {},
   "outputs": [
    {
     "name": "stdout",
     "output_type": "stream",
     "text": [
      "Example 1: Creating\n"
     ]
    },
    {
     "data": {
      "text/plain": [
       "{2, 3, 5, 7, 11}"
      ]
     },
     "execution_count": 18,
     "metadata": {},
     "output_type": "execute_result"
    }
   ],
   "source": [
    "print(\"Example 1: Creating\")\n",
    "prime = [2, 3, 5, 7, 11]\n",
    "prime = set(prime)\n",
    "prime"
   ]
  },
  {
   "cell_type": "code",
   "execution_count": 19,
   "metadata": {},
   "outputs": [
    {
     "name": "stdout",
     "output_type": "stream",
     "text": [
      "Example 2: Adding/Updating\n"
     ]
    },
    {
     "data": {
      "text/plain": [
       "{2, 3, 5, 7, 11, 13, 17, 19, 23}"
      ]
     },
     "execution_count": 19,
     "metadata": {},
     "output_type": "execute_result"
    }
   ],
   "source": [
    "print(\"Example 2: Adding/Updating\")\n",
    "prime.add(13)\n",
    "prime.update([17, 19, 23])\n",
    "prime"
   ]
  },
  {
   "cell_type": "code",
   "execution_count": 20,
   "metadata": {},
   "outputs": [
    {
     "name": "stdout",
     "output_type": "stream",
     "text": [
      "Example 3: Adding/Updating\n"
     ]
    },
    {
     "data": {
      "text/plain": [
       "{3, 7, 11, 13, 17, 19, 23}"
      ]
     },
     "execution_count": 20,
     "metadata": {},
     "output_type": "execute_result"
    }
   ],
   "source": [
    "print(\"Example 3: Adding/Updating\")\n",
    "prime.discard(5)\n",
    "prime.pop()\n",
    "prime"
   ]
  },
  {
   "cell_type": "code",
   "execution_count": 21,
   "metadata": {},
   "outputs": [
    {
     "name": "stdout",
     "output_type": "stream",
     "text": [
      "Dataframe: A Data frame is a two-dimensional data structure, i.e., data is aligned in a tabular fashion in rows and columns.\n",
      "\n",
      "Why?\n",
      "A dataframe is used to represent data in form of a table i.e. rows and columns.\n",
      "\n",
      "When?\n",
      "When manipulating large data, the data frame makes it easier to work on it. We can edit columns, rows do calculations on all at the same time\n",
      "and much more. \n",
      "\n",
      "Where?\n",
      "Dataframe is used where a lot of calculations/manipulation of data is required. Usually in applications related to data analysis or \n",
      "data manipulation. \n",
      "\n",
      "\n"
     ]
    }
   ],
   "source": [
    "print(\"\"\"Dataframe: A Data frame is a two-dimensional data structure, i.e., data is aligned in a tabular fashion in rows and columns.\n",
    "\n",
    "Why?\n",
    "A dataframe is used to represent data in form of a table i.e. rows and columns.\n",
    "\n",
    "When?\n",
    "When manipulating large data, the data frame makes it easier to work on it. We can edit columns, rows do calculations on all at the same time\n",
    "and much more. \n",
    "\n",
    "Where?\n",
    "Dataframe is used where a lot of calculations/manipulation of data is required. Usually in applications related to data analysis or \n",
    "data manipulation. \n",
    "\n",
    "\"\"\")"
   ]
  },
  {
   "cell_type": "code",
   "execution_count": 26,
   "metadata": {},
   "outputs": [
    {
     "name": "stdout",
     "output_type": "stream",
     "text": [
      "Example 1: Creating\n"
     ]
    },
    {
     "data": {
      "text/html": [
       "<div>\n",
       "<style scoped>\n",
       "    .dataframe tbody tr th:only-of-type {\n",
       "        vertical-align: middle;\n",
       "    }\n",
       "\n",
       "    .dataframe tbody tr th {\n",
       "        vertical-align: top;\n",
       "    }\n",
       "\n",
       "    .dataframe thead th {\n",
       "        text-align: right;\n",
       "    }\n",
       "</style>\n",
       "<table border=\"1\" class=\"dataframe\">\n",
       "  <thead>\n",
       "    <tr style=\"text-align: right;\">\n",
       "      <th></th>\n",
       "      <th>Name</th>\n",
       "      <th>Age</th>\n",
       "      <th>Gender</th>\n",
       "    </tr>\n",
       "  </thead>\n",
       "  <tbody>\n",
       "    <tr>\n",
       "      <th>0</th>\n",
       "      <td>Afreen</td>\n",
       "      <td>35</td>\n",
       "      <td>M</td>\n",
       "    </tr>\n",
       "    <tr>\n",
       "      <th>1</th>\n",
       "      <td>Arooj</td>\n",
       "      <td>32</td>\n",
       "      <td>F</td>\n",
       "    </tr>\n",
       "    <tr>\n",
       "      <th>2</th>\n",
       "      <td>Nigarish</td>\n",
       "      <td>31</td>\n",
       "      <td>M</td>\n",
       "    </tr>\n",
       "    <tr>\n",
       "      <th>3</th>\n",
       "      <td>Sarosh</td>\n",
       "      <td>28</td>\n",
       "      <td>M</td>\n",
       "    </tr>\n",
       "    <tr>\n",
       "      <th>4</th>\n",
       "      <td>Roshaan</td>\n",
       "      <td>28</td>\n",
       "      <td>M</td>\n",
       "    </tr>\n",
       "    <tr>\n",
       "      <th>5</th>\n",
       "      <td>Jazib</td>\n",
       "      <td>27</td>\n",
       "      <td>M</td>\n",
       "    </tr>\n",
       "    <tr>\n",
       "      <th>6</th>\n",
       "      <td>Rahima</td>\n",
       "      <td>24</td>\n",
       "      <td>F</td>\n",
       "    </tr>\n",
       "    <tr>\n",
       "      <th>7</th>\n",
       "      <td>Farasat</td>\n",
       "      <td>23</td>\n",
       "      <td>M</td>\n",
       "    </tr>\n",
       "    <tr>\n",
       "      <th>8</th>\n",
       "      <td>Faiq</td>\n",
       "      <td>21</td>\n",
       "      <td>M</td>\n",
       "    </tr>\n",
       "    <tr>\n",
       "      <th>9</th>\n",
       "      <td>Shafaq</td>\n",
       "      <td>20</td>\n",
       "      <td>F</td>\n",
       "    </tr>\n",
       "    <tr>\n",
       "      <th>10</th>\n",
       "      <td>Meeral</td>\n",
       "      <td>20</td>\n",
       "      <td>F</td>\n",
       "    </tr>\n",
       "    <tr>\n",
       "      <th>11</th>\n",
       "      <td>Shafay</td>\n",
       "      <td>14</td>\n",
       "      <td>M</td>\n",
       "    </tr>\n",
       "  </tbody>\n",
       "</table>\n",
       "</div>"
      ],
      "text/plain": [
       "        Name  Age Gender\n",
       "0     Afreen   35      M\n",
       "1      Arooj   32      F\n",
       "2   Nigarish   31      M\n",
       "3     Sarosh   28      M\n",
       "4    Roshaan   28      M\n",
       "5      Jazib   27      M\n",
       "6     Rahima   24      F\n",
       "7    Farasat   23      M\n",
       "8       Faiq   21      M\n",
       "9     Shafaq   20      F\n",
       "10    Meeral   20      F\n",
       "11    Shafay   14      M"
      ]
     },
     "execution_count": 26,
     "metadata": {},
     "output_type": "execute_result"
    }
   ],
   "source": [
    "import pandas as pd\n",
    "print(\"Example 1: Creating\")\n",
    "cousins_data = {\n",
    "    'Name': ['Afreen', 'Arooj', 'Nigarish', 'Sarosh', 'Roshaan', 'Jazib', 'Rahima', 'Farasat', 'Faiq', 'Shafaq', 'Meeral', 'Shafay'],\n",
    "    'Age': [35, 32, 31, 28, 28, 27, 24, 23, 21, 20, 20, 14],\n",
    "    'Gender' : ['M','F','M','M','M','M','F','M','M','F','F','M'] \n",
    "}\n",
    "cousins = pd.DataFrame(cousins_data)\n",
    "cousins"
   ]
  },
  {
   "cell_type": "code",
   "execution_count": 27,
   "metadata": {},
   "outputs": [
    {
     "name": "stdout",
     "output_type": "stream",
     "text": [
      "Example 2: Changing Index\n"
     ]
    },
    {
     "data": {
      "text/html": [
       "<div>\n",
       "<style scoped>\n",
       "    .dataframe tbody tr th:only-of-type {\n",
       "        vertical-align: middle;\n",
       "    }\n",
       "\n",
       "    .dataframe tbody tr th {\n",
       "        vertical-align: top;\n",
       "    }\n",
       "\n",
       "    .dataframe thead th {\n",
       "        text-align: right;\n",
       "    }\n",
       "</style>\n",
       "<table border=\"1\" class=\"dataframe\">\n",
       "  <thead>\n",
       "    <tr style=\"text-align: right;\">\n",
       "      <th></th>\n",
       "      <th>Name</th>\n",
       "      <th>Age</th>\n",
       "      <th>Gender</th>\n",
       "    </tr>\n",
       "    <tr>\n",
       "      <th>Name</th>\n",
       "      <th></th>\n",
       "      <th></th>\n",
       "      <th></th>\n",
       "    </tr>\n",
       "  </thead>\n",
       "  <tbody>\n",
       "    <tr>\n",
       "      <th>Afreen</th>\n",
       "      <td>Afreen</td>\n",
       "      <td>35</td>\n",
       "      <td>M</td>\n",
       "    </tr>\n",
       "    <tr>\n",
       "      <th>Arooj</th>\n",
       "      <td>Arooj</td>\n",
       "      <td>32</td>\n",
       "      <td>F</td>\n",
       "    </tr>\n",
       "    <tr>\n",
       "      <th>Nigarish</th>\n",
       "      <td>Nigarish</td>\n",
       "      <td>31</td>\n",
       "      <td>M</td>\n",
       "    </tr>\n",
       "    <tr>\n",
       "      <th>Sarosh</th>\n",
       "      <td>Sarosh</td>\n",
       "      <td>28</td>\n",
       "      <td>M</td>\n",
       "    </tr>\n",
       "    <tr>\n",
       "      <th>Roshaan</th>\n",
       "      <td>Roshaan</td>\n",
       "      <td>28</td>\n",
       "      <td>M</td>\n",
       "    </tr>\n",
       "    <tr>\n",
       "      <th>Jazib</th>\n",
       "      <td>Jazib</td>\n",
       "      <td>27</td>\n",
       "      <td>M</td>\n",
       "    </tr>\n",
       "    <tr>\n",
       "      <th>Rahima</th>\n",
       "      <td>Rahima</td>\n",
       "      <td>24</td>\n",
       "      <td>F</td>\n",
       "    </tr>\n",
       "    <tr>\n",
       "      <th>Farasat</th>\n",
       "      <td>Farasat</td>\n",
       "      <td>23</td>\n",
       "      <td>M</td>\n",
       "    </tr>\n",
       "    <tr>\n",
       "      <th>Faiq</th>\n",
       "      <td>Faiq</td>\n",
       "      <td>21</td>\n",
       "      <td>M</td>\n",
       "    </tr>\n",
       "    <tr>\n",
       "      <th>Shafaq</th>\n",
       "      <td>Shafaq</td>\n",
       "      <td>20</td>\n",
       "      <td>F</td>\n",
       "    </tr>\n",
       "    <tr>\n",
       "      <th>Meeral</th>\n",
       "      <td>Meeral</td>\n",
       "      <td>20</td>\n",
       "      <td>F</td>\n",
       "    </tr>\n",
       "    <tr>\n",
       "      <th>Shafay</th>\n",
       "      <td>Shafay</td>\n",
       "      <td>14</td>\n",
       "      <td>M</td>\n",
       "    </tr>\n",
       "  </tbody>\n",
       "</table>\n",
       "</div>"
      ],
      "text/plain": [
       "              Name  Age Gender\n",
       "Name                          \n",
       "Afreen      Afreen   35      M\n",
       "Arooj        Arooj   32      F\n",
       "Nigarish  Nigarish   31      M\n",
       "Sarosh      Sarosh   28      M\n",
       "Roshaan    Roshaan   28      M\n",
       "Jazib        Jazib   27      M\n",
       "Rahima      Rahima   24      F\n",
       "Farasat    Farasat   23      M\n",
       "Faiq          Faiq   21      M\n",
       "Shafaq      Shafaq   20      F\n",
       "Meeral      Meeral   20      F\n",
       "Shafay      Shafay   14      M"
      ]
     },
     "execution_count": 27,
     "metadata": {},
     "output_type": "execute_result"
    }
   ],
   "source": [
    "print(\"Example 2: Changing Index\")\n",
    "cousins.index = cousins['Name']\n",
    "cousins"
   ]
  },
  {
   "cell_type": "code",
   "execution_count": 28,
   "metadata": {},
   "outputs": [
    {
     "name": "stdout",
     "output_type": "stream",
     "text": [
      "Example 3: Dropping Column\n"
     ]
    },
    {
     "data": {
      "text/html": [
       "<div>\n",
       "<style scoped>\n",
       "    .dataframe tbody tr th:only-of-type {\n",
       "        vertical-align: middle;\n",
       "    }\n",
       "\n",
       "    .dataframe tbody tr th {\n",
       "        vertical-align: top;\n",
       "    }\n",
       "\n",
       "    .dataframe thead th {\n",
       "        text-align: right;\n",
       "    }\n",
       "</style>\n",
       "<table border=\"1\" class=\"dataframe\">\n",
       "  <thead>\n",
       "    <tr style=\"text-align: right;\">\n",
       "      <th></th>\n",
       "      <th>Age</th>\n",
       "      <th>Gender</th>\n",
       "    </tr>\n",
       "    <tr>\n",
       "      <th>Name</th>\n",
       "      <th></th>\n",
       "      <th></th>\n",
       "    </tr>\n",
       "  </thead>\n",
       "  <tbody>\n",
       "    <tr>\n",
       "      <th>Afreen</th>\n",
       "      <td>35</td>\n",
       "      <td>M</td>\n",
       "    </tr>\n",
       "    <tr>\n",
       "      <th>Arooj</th>\n",
       "      <td>32</td>\n",
       "      <td>F</td>\n",
       "    </tr>\n",
       "    <tr>\n",
       "      <th>Nigarish</th>\n",
       "      <td>31</td>\n",
       "      <td>M</td>\n",
       "    </tr>\n",
       "    <tr>\n",
       "      <th>Sarosh</th>\n",
       "      <td>28</td>\n",
       "      <td>M</td>\n",
       "    </tr>\n",
       "    <tr>\n",
       "      <th>Roshaan</th>\n",
       "      <td>28</td>\n",
       "      <td>M</td>\n",
       "    </tr>\n",
       "    <tr>\n",
       "      <th>Jazib</th>\n",
       "      <td>27</td>\n",
       "      <td>M</td>\n",
       "    </tr>\n",
       "    <tr>\n",
       "      <th>Rahima</th>\n",
       "      <td>24</td>\n",
       "      <td>F</td>\n",
       "    </tr>\n",
       "    <tr>\n",
       "      <th>Farasat</th>\n",
       "      <td>23</td>\n",
       "      <td>M</td>\n",
       "    </tr>\n",
       "    <tr>\n",
       "      <th>Faiq</th>\n",
       "      <td>21</td>\n",
       "      <td>M</td>\n",
       "    </tr>\n",
       "    <tr>\n",
       "      <th>Shafaq</th>\n",
       "      <td>20</td>\n",
       "      <td>F</td>\n",
       "    </tr>\n",
       "    <tr>\n",
       "      <th>Meeral</th>\n",
       "      <td>20</td>\n",
       "      <td>F</td>\n",
       "    </tr>\n",
       "    <tr>\n",
       "      <th>Shafay</th>\n",
       "      <td>14</td>\n",
       "      <td>M</td>\n",
       "    </tr>\n",
       "  </tbody>\n",
       "</table>\n",
       "</div>"
      ],
      "text/plain": [
       "          Age Gender\n",
       "Name                \n",
       "Afreen     35      M\n",
       "Arooj      32      F\n",
       "Nigarish   31      M\n",
       "Sarosh     28      M\n",
       "Roshaan    28      M\n",
       "Jazib      27      M\n",
       "Rahima     24      F\n",
       "Farasat    23      M\n",
       "Faiq       21      M\n",
       "Shafaq     20      F\n",
       "Meeral     20      F\n",
       "Shafay     14      M"
      ]
     },
     "execution_count": 28,
     "metadata": {},
     "output_type": "execute_result"
    }
   ],
   "source": [
    "print(\"Example 3: Dropping Column\")\n",
    "cousins.drop([\"Name\"], axis = 1, inplace = True)\n",
    "cousins"
   ]
  },
  {
   "cell_type": "code",
   "execution_count": null,
   "metadata": {},
   "outputs": [],
   "source": []
  },
  {
   "cell_type": "code",
   "execution_count": null,
   "metadata": {},
   "outputs": [],
   "source": []
  }
 ],
 "metadata": {
  "kernelspec": {
   "display_name": "Python 3",
   "language": "python",
   "name": "python3"
  },
  "language_info": {
   "codemirror_mode": {
    "name": "ipython",
    "version": 3
   },
   "file_extension": ".py",
   "mimetype": "text/x-python",
   "name": "python",
   "nbconvert_exporter": "python",
   "pygments_lexer": "ipython3",
   "version": "3.8.5"
  }
 },
 "nbformat": 4,
 "nbformat_minor": 1
}
