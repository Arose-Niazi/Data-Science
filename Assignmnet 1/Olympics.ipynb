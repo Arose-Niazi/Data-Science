{
 "cells": [
  {
   "cell_type": "code",
   "execution_count": 8,
   "metadata": {},
   "outputs": [],
   "source": [
    "import pandas as pd\n",
    "from OlympicsCSV import Olympics\n",
    "olympics = Olympics(pd.read_csv('olympics.csv', delimiter=\",\", index_col=0, skiprows=1))"
   ]
  },
  {
   "cell_type": "code",
   "execution_count": 9,
   "metadata": {
    "pycharm": {
     "name": "#%%\n"
    }
   },
   "outputs": [
    {
     "name": "stdout",
     "output_type": "stream",
     "text": [
      "                            Data loaded from file and formatted (Task 1)                            \n"
     ]
    },
    {
     "data": {
      "text/plain": "                                   # Summer  Gold  Silver  Bronze  Total  \\\nAfghanistan                              13     0       0       2      2   \nAlgeria                                  12     5       2       8     15   \nArgentina                                23    18      24      28     70   \nArmenia                                   5     1       2       9     12   \nAustralasia                               2     3       4       5     12   \n...                                     ...   ...     ...     ...    ...   \nYugoslavia                               16    26      29      28     83   \nIndependent Olympic Participants          1     0       1       2      3   \nZambia                                   12     0       1       1      2   \nZimbabwe                                 12     3       4       1      8   \nMixed team                                3     8       5       4     17   \n\n                                   # Winter  Gold.1  Silver.1  Bronze.1  \\\nAfghanistan                               0       0         0         0   \nAlgeria                                   3       0         0         0   \nArgentina                                18       0         0         0   \nArmenia                                   6       0         0         0   \nAustralasia                               0       0         0         0   \n...                                     ...     ...       ...       ...   \nYugoslavia                               14       0         3         1   \nIndependent Olympic Participants          0       0         0         0   \nZambia                                    0       0         0         0   \nZimbabwe                                  1       0         0         0   \nMixed team                                0       0         0         0   \n\n                                   Total.1  # Games  Gold.2  Silver.2  \\\nAfghanistan                              0       13       0         0   \nAlgeria                                  0       15       5         2   \nArgentina                                0       41      18        24   \nArmenia                                  0       11       1         2   \nAustralasia                              0        2       3         4   \n...                                    ...      ...     ...       ...   \nYugoslavia                               4       30      26        32   \nIndependent Olympic Participants         0        1       0         1   \nZambia                                   0       12       0         1   \nZimbabwe                                 0       13       3         4   \nMixed team                               0        3       8         5   \n\n                                   Bronze.2  Combined total   ID  \nAfghanistan                               2               2  AFG  \nAlgeria                                   8              15  ALG  \nArgentina                                28              70  ARG  \nArmenia                                   9              12  ARM  \nAustralasia                               5              12  ANZ  \n...                                     ...             ...  ...  \nYugoslavia                               29              87  YUG  \nIndependent Olympic Participants          2               3  IOP  \nZambia                                    1               2  ZAM  \nZimbabwe                                  1               8  ZIM  \nMixed team                                4              17  ZZX  \n\n[146 rows x 16 columns]",
      "text/html": "<div>\n<style scoped>\n    .dataframe tbody tr th:only-of-type {\n        vertical-align: middle;\n    }\n\n    .dataframe tbody tr th {\n        vertical-align: top;\n    }\n\n    .dataframe thead th {\n        text-align: right;\n    }\n</style>\n<table border=\"1\" class=\"dataframe\">\n  <thead>\n    <tr style=\"text-align: right;\">\n      <th></th>\n      <th># Summer</th>\n      <th>Gold</th>\n      <th>Silver</th>\n      <th>Bronze</th>\n      <th>Total</th>\n      <th># Winter</th>\n      <th>Gold.1</th>\n      <th>Silver.1</th>\n      <th>Bronze.1</th>\n      <th>Total.1</th>\n      <th># Games</th>\n      <th>Gold.2</th>\n      <th>Silver.2</th>\n      <th>Bronze.2</th>\n      <th>Combined total</th>\n      <th>ID</th>\n    </tr>\n  </thead>\n  <tbody>\n    <tr>\n      <th>Afghanistan</th>\n      <td>13</td>\n      <td>0</td>\n      <td>0</td>\n      <td>2</td>\n      <td>2</td>\n      <td>0</td>\n      <td>0</td>\n      <td>0</td>\n      <td>0</td>\n      <td>0</td>\n      <td>13</td>\n      <td>0</td>\n      <td>0</td>\n      <td>2</td>\n      <td>2</td>\n      <td>AFG</td>\n    </tr>\n    <tr>\n      <th>Algeria</th>\n      <td>12</td>\n      <td>5</td>\n      <td>2</td>\n      <td>8</td>\n      <td>15</td>\n      <td>3</td>\n      <td>0</td>\n      <td>0</td>\n      <td>0</td>\n      <td>0</td>\n      <td>15</td>\n      <td>5</td>\n      <td>2</td>\n      <td>8</td>\n      <td>15</td>\n      <td>ALG</td>\n    </tr>\n    <tr>\n      <th>Argentina</th>\n      <td>23</td>\n      <td>18</td>\n      <td>24</td>\n      <td>28</td>\n      <td>70</td>\n      <td>18</td>\n      <td>0</td>\n      <td>0</td>\n      <td>0</td>\n      <td>0</td>\n      <td>41</td>\n      <td>18</td>\n      <td>24</td>\n      <td>28</td>\n      <td>70</td>\n      <td>ARG</td>\n    </tr>\n    <tr>\n      <th>Armenia</th>\n      <td>5</td>\n      <td>1</td>\n      <td>2</td>\n      <td>9</td>\n      <td>12</td>\n      <td>6</td>\n      <td>0</td>\n      <td>0</td>\n      <td>0</td>\n      <td>0</td>\n      <td>11</td>\n      <td>1</td>\n      <td>2</td>\n      <td>9</td>\n      <td>12</td>\n      <td>ARM</td>\n    </tr>\n    <tr>\n      <th>Australasia</th>\n      <td>2</td>\n      <td>3</td>\n      <td>4</td>\n      <td>5</td>\n      <td>12</td>\n      <td>0</td>\n      <td>0</td>\n      <td>0</td>\n      <td>0</td>\n      <td>0</td>\n      <td>2</td>\n      <td>3</td>\n      <td>4</td>\n      <td>5</td>\n      <td>12</td>\n      <td>ANZ</td>\n    </tr>\n    <tr>\n      <th>...</th>\n      <td>...</td>\n      <td>...</td>\n      <td>...</td>\n      <td>...</td>\n      <td>...</td>\n      <td>...</td>\n      <td>...</td>\n      <td>...</td>\n      <td>...</td>\n      <td>...</td>\n      <td>...</td>\n      <td>...</td>\n      <td>...</td>\n      <td>...</td>\n      <td>...</td>\n      <td>...</td>\n    </tr>\n    <tr>\n      <th>Yugoslavia</th>\n      <td>16</td>\n      <td>26</td>\n      <td>29</td>\n      <td>28</td>\n      <td>83</td>\n      <td>14</td>\n      <td>0</td>\n      <td>3</td>\n      <td>1</td>\n      <td>4</td>\n      <td>30</td>\n      <td>26</td>\n      <td>32</td>\n      <td>29</td>\n      <td>87</td>\n      <td>YUG</td>\n    </tr>\n    <tr>\n      <th>Independent Olympic Participants</th>\n      <td>1</td>\n      <td>0</td>\n      <td>1</td>\n      <td>2</td>\n      <td>3</td>\n      <td>0</td>\n      <td>0</td>\n      <td>0</td>\n      <td>0</td>\n      <td>0</td>\n      <td>1</td>\n      <td>0</td>\n      <td>1</td>\n      <td>2</td>\n      <td>3</td>\n      <td>IOP</td>\n    </tr>\n    <tr>\n      <th>Zambia</th>\n      <td>12</td>\n      <td>0</td>\n      <td>1</td>\n      <td>1</td>\n      <td>2</td>\n      <td>0</td>\n      <td>0</td>\n      <td>0</td>\n      <td>0</td>\n      <td>0</td>\n      <td>12</td>\n      <td>0</td>\n      <td>1</td>\n      <td>1</td>\n      <td>2</td>\n      <td>ZAM</td>\n    </tr>\n    <tr>\n      <th>Zimbabwe</th>\n      <td>12</td>\n      <td>3</td>\n      <td>4</td>\n      <td>1</td>\n      <td>8</td>\n      <td>1</td>\n      <td>0</td>\n      <td>0</td>\n      <td>0</td>\n      <td>0</td>\n      <td>13</td>\n      <td>3</td>\n      <td>4</td>\n      <td>1</td>\n      <td>8</td>\n      <td>ZIM</td>\n    </tr>\n    <tr>\n      <th>Mixed team</th>\n      <td>3</td>\n      <td>8</td>\n      <td>5</td>\n      <td>4</td>\n      <td>17</td>\n      <td>0</td>\n      <td>0</td>\n      <td>0</td>\n      <td>0</td>\n      <td>0</td>\n      <td>3</td>\n      <td>8</td>\n      <td>5</td>\n      <td>4</td>\n      <td>17</td>\n      <td>ZZX</td>\n    </tr>\n  </tbody>\n</table>\n<p>146 rows × 16 columns</p>\n</div>"
     },
     "execution_count": 9,
     "metadata": {},
     "output_type": "execute_result"
    }
   ],
   "source": [
    "print(str.center(\"Data loaded from file and formatted (Task 1)\", 100, \" \"))\n",
    "olympics.data\n"
   ]
  },
  {
   "cell_type": "code",
   "execution_count": 10,
   "metadata": {},
   "outputs": [
    {
     "name": "stdout",
     "output_type": "stream",
     "text": [
      "                                  Series of first object (Task 2)                                   \n"
     ]
    },
    {
     "data": {
      "text/plain": "# Summer           13\nGold                0\nSilver              0\nBronze              2\nTotal               2\n# Winter            0\nGold.1              0\nSilver.1            0\nBronze.1            0\nTotal.1             0\n# Games            13\nGold.2              0\nSilver.2            0\nBronze.2            2\nCombined total      2\nID                AFG\nName: Afghanistan , dtype: object"
     },
     "execution_count": 10,
     "metadata": {},
     "output_type": "execute_result"
    }
   ],
   "source": [
    "print(str.center(\"Series of first object (Task 2)\", 100, \" \"))\n",
    "olympics.getFirstCountry()\n"
   ]
  },
  {
   "cell_type": "code",
   "execution_count": 11,
   "outputs": [
    {
     "name": "stdout",
     "output_type": "stream",
     "text": [
      "Most Summer Gold Medals (Task 3): United States \n"
     ]
    }
   ],
   "source": [
    "print(\"Most Summer Gold Medals (Task 3):\", olympics.mostSummerGolds())"
   ],
   "metadata": {
    "collapsed": false,
    "pycharm": {
     "name": "#%%\n"
    }
   }
  },
  {
   "cell_type": "code",
   "execution_count": 12,
   "outputs": [
    {
     "name": "stdout",
     "output_type": "stream",
     "text": [
      "Most Summer to Winter Medals Difference (Task 4): United States \n"
     ]
    }
   ],
   "source": [
    "print(\"Most Summer to Winter Medals Difference (Task 4):\", olympics.mostGoldDifference())"
   ],
   "metadata": {
    "collapsed": false,
    "pycharm": {
     "name": "#%%\n"
    }
   }
  },
  {
   "cell_type": "code",
   "execution_count": 13,
   "outputs": [
    {
     "name": "stdout",
     "output_type": "stream",
     "text": [
      "Most Summer to Winter Medals Difference, minimum 1 won and relative to total (Task 5): Bulgaria \n"
     ]
    }
   ],
   "source": [
    "print(\"Most Summer to Winter Medals Difference, minimum 1 won and relative to total (Task 5):\", olympics.mostRelativeGoldDifference())"
   ],
   "metadata": {
    "collapsed": false,
    "pycharm": {
     "name": "#%%\n"
    }
   }
  },
  {
   "cell_type": "code",
   "execution_count": 14,
   "outputs": [
    {
     "name": "stdout",
     "output_type": "stream",
     "text": [
      "                                 Series of weighted points (Task 6)                                 \n"
     ]
    },
    {
     "data": {
      "text/plain": "Afghanistan                            2\nAlgeria                               27\nArgentina                            130\nArmenia                               16\nAustralasia                           22\n                                    ... \nYugoslavia                           171\nIndependent Olympic Participants       4\nZambia                                 3\nZimbabwe                              18\nMixed team                            38\nName: Points, Length: 146, dtype: int64"
     },
     "execution_count": 14,
     "metadata": {},
     "output_type": "execute_result"
    }
   ],
   "source": [
    "print(str.center(\"Series of weighted points (Task 6)\", 100, \" \"))\n",
    "olympics.calculatePoints()\n"
   ],
   "metadata": {
    "collapsed": false,
    "pycharm": {
     "name": "#%%\n"
    }
   }
  },
  {
   "cell_type": "code",
   "execution_count": 7,
   "metadata": {},
   "outputs": [
    {
     "name": "stdout",
     "output_type": "stream",
     "text": [
      "Most Summer Gold Medals (Task 3): United States \n"
     ]
    }
   ],
   "source": [
    "print(\"Most Summer Gold Medals (Task 3):\", olympics.mostSummerGolds())"
   ]
  },
  {
   "cell_type": "code",
   "execution_count": 8,
   "metadata": {},
   "outputs": [
    {
     "name": "stdout",
     "output_type": "stream",
     "text": [
      "Most Summer to Winter Medals Difference (Task 4): United States \n"
     ]
    }
   ],
   "source": [
    "print(\"Most Summer to Winter Medals Difference (Task 4):\", olympics.mostGoldDifference())"
   ]
  },
  {
   "cell_type": "code",
   "execution_count": 9,
   "metadata": {},
   "outputs": [
    {
     "name": "stdout",
     "output_type": "stream",
     "text": [
      "Most Summer to Winter Medals Difference, minimum 1 won and relative to total (Task 5): Bulgaria \n"
     ]
    }
   ],
   "source": [
    "print(\"Most Summer to Winter Medals Difference, minimum 1 won and relative to total (Task 5):\", olympics.mostRelativeGoldDifference())"
   ]
  },
  {
   "cell_type": "code",
   "execution_count": 10,
   "metadata": {},
   "outputs": [
    {
     "name": "stdout",
     "output_type": "stream",
     "text": [
      "                                 Series of weighted points (Task 6)                                 \n"
     ]
    }
   ],
   "source": [
    "print(str.center(\"Series of weighted points (Task 6)\", 100, \" \"))\n",
    "olympics.calculatePoints()"
   ]
  },
  {
   "cell_type": "code",
   "execution_count": null,
   "metadata": {},
   "outputs": [],
   "source": []
  }
 ],
 "metadata": {
  "kernelspec": {
   "display_name": "Python 3",
   "language": "python",
   "name": "python3"
  },
  "language_info": {
   "codemirror_mode": {
    "name": "ipython",
    "version": 3
   },
   "file_extension": ".py",
   "mimetype": "text/x-python",
   "name": "python",
   "nbconvert_exporter": "python",
   "pygments_lexer": "ipython3",
   "version": "3.8.5"
  }
 },
 "nbformat": 4,
 "nbformat_minor": 1
}